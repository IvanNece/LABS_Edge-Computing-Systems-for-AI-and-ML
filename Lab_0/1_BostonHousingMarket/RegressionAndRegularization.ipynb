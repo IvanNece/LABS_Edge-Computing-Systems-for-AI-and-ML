{
  "cells": [
    {
      "cell_type": "markdown",
      "metadata": {
        "colab_type": "text",
        "id": "view-in-github"
      },
      "source": [
        "<a href=\"https://colab.research.google.com/github/IvanNece/LABS_Edge-Computing-Systems-for-AI-and-ML/blob/main/Lab_0/1_BostonHousingMarket/RegressionAndRegularization.ipynb\" target=\"_parent\"><img src=\"https://colab.research.google.com/assets/colab-badge.svg\" alt=\"Open In Colab\"/></a>"
      ]
    },
    {
      "cell_type": "markdown",
      "metadata": {
        "id": "U7ntUbR2hEmD"
      },
      "source": [
        "# Linear and Polynomial Regression and regularization\n",
        "As we saw in our lessons, linear regression is a good model only when there is actually a linear dependence from the features to the target.\n",
        "\n",
        "In some cases, for example when the target is a sinusoidal function of the features, a first degree polynomial is not a sufficiently good approximation. In this tutorial we will learn how to create a good polynomial model and how to tune it with regularization."
      ]
    },
    {
      "cell_type": "markdown",
      "metadata": {
        "id": "5fFkV4ZQz22v"
      },
      "source": [
        "## Importing packages and functions\n",
        "- [numpy](https://numpy.org) is a python package that provides support for more efficient numerical computation\n",
        "- [pandas](https://pandas.pydata.org) is a convenient library that supports dataframes. Pandas is technically optional because [Scikit-Learn](https://scikit-learn.org) can handle numerical matrices directly, but it will make our lives easier, as we will see later.\n",
        "- [LinearRegression](https://scikit-learn.org/stable/modules/generated/sklearn.linear_model.LinearRegression.html) is a class that implements the Linear Regression model (all classes in scikit-learn have capital names)\n",
        "- [Ridge](https://scikit-learn.org/stable/modules/generated/sklearn.linear_model.Ridge.html) implements the Ridge regularization method for Linear Regression, that adds to the loss function the sum of the squares of the weigths (i.e. minimizes the L2 norm of the vector of weights).\n",
        "- [Lasso](https://scikit-learn.org/stable/modules/generated/sklearn.linear_model.Lasso.html) implements the Lasso regularization method for Linear Regression, that adds to the loss function the sum of the modules of the weigths (i.e. minimizes the L1 norm of the vector of weights).\n",
        "- [mean_squared_error](https://scikit-learn.org/stable/modules/generated/sklearn.metrics.mean_squared_error.html) is the usual Mean Square Error loss function used for Linear Regression (all functions in scikit-learn have lower case names).\n",
        "- [train_test_split](https://scikit-learn.org/stable/modules/generated/sklearn.model_selection.train_test_split.html) splits the dataset into a training set and a validation set (the functionality is the same for test and validation sets, hence the name; here we will use it for the validation set only).\n",
        "- [PolynomialFeatures](https://scikit-learn.org/stable/modules/generated/sklearn.preprocessing.PolynomialFeatures.html) creates various powers of the input features and theor cross-products, as a mapping function for Polynomial Regression\n",
        "- [Pipeline](https://scikit-learn.org/stable/modules/generated/sklearn.pipeline.Pipeline.html) is a utility that can be used to concatenate various ML steps into a single pipeline.\n",
        "- [StandardScaler](https://scikit-learn.org/stable/modules/generated/sklearn.preprocessing.StandardScaler.html) scales your data based on mean and standard deviation, so that it fits in a small interval (e.g. [-1...1]) centered around 0."
      ]
    },
    {
      "cell_type": "code",
      "execution_count": 1,
      "metadata": {
        "id": "nd5YyLV-oI1d"
      },
      "outputs": [],
      "source": [
        "import numpy as np\n",
        "import pandas as pd\n",
        "import math\n",
        "\n",
        "from sklearn.linear_model import LinearRegression\n",
        "from sklearn.linear_model import Lasso\n",
        "from sklearn.linear_model import Ridge\n",
        "from sklearn.metrics import mean_squared_error\n",
        "from sklearn.model_selection import train_test_split\n",
        "\n",
        "from sklearn.preprocessing import PolynomialFeatures\n",
        "from sklearn.pipeline import Pipeline\n",
        "from sklearn.preprocessing import StandardScaler"
      ]
    },
    {
      "cell_type": "markdown",
      "metadata": {
        "id": "a-hvlPRmiuBa"
      },
      "source": [
        "##  Importing data\n",
        "Let us now read the data for this lab. They cover the Boston housing market (the original is [here](https://www.kaggle.com/c/boston-housing)).\n",
        "\n",
        "As the data is stored in a .csv file, we use the `read_csv()` function from pandas to read it in, show the data format, and print the first three lines.\n",
        "\n",
        "A \"[dataframe](https://pandas.pydata.org/pandas-docs/stable/reference/frame.html)\" in pandas (and in other ML frameworks such as R) is a class that includes\n",
        "- a data set (in this case 14 columns and 506 lines)\n",
        "- some format information, such as the column names (from the xlsx header), the data types and so on\n",
        "- methods to print mean, standard deviation and so on."
      ]
    },
    {
      "cell_type": "code",
      "execution_count": 2,
      "metadata": {
        "colab": {
          "base_uri": "https://localhost:8080/"
        },
        "id": "Hrza5EiihRgm",
        "outputId": "29c727ff-179a-4446-a4fe-ab6f7addb191"
      },
      "outputs": [
        {
          "name": "stdout",
          "output_type": "stream",
          "text": [
            "Some generic information about the dataframe:\n",
            "<class 'pandas.core.frame.DataFrame'>\n",
            "RangeIndex: 506 entries, 0 to 505\n",
            "Data columns (total 14 columns):\n",
            " #   Column   Non-Null Count  Dtype  \n",
            "---  ------   --------------  -----  \n",
            " 0   CRIM     506 non-null    float64\n",
            " 1   ZN       506 non-null    float64\n",
            " 2   INDUS    506 non-null    float64\n",
            " 3   CHAS     506 non-null    int64  \n",
            " 4   NOX      506 non-null    float64\n",
            " 5   RM       506 non-null    float64\n",
            " 6   AGE      506 non-null    float64\n",
            " 7   DIS      506 non-null    float64\n",
            " 8   RAD      506 non-null    int64  \n",
            " 9   TAX      506 non-null    int64  \n",
            " 10  PTRATIO  506 non-null    float64\n",
            " 11  B        506 non-null    float64\n",
            " 12  LSTAT    506 non-null    float64\n",
            " 13  MEDV     506 non-null    float64\n",
            "dtypes: float64(11), int64(3)\n",
            "memory usage: 55.5 KB\n",
            "None\n",
            "The first three rows of the dataframe:\n",
            "      CRIM    ZN  INDUS  CHAS    NOX     RM   AGE     DIS  RAD  TAX  PTRATIO  \\\n",
            "0  0.00632  18.0   2.31     0  0.538  6.575  65.2  4.0900    1  296     15.3   \n",
            "1  0.02731   0.0   7.07     0  0.469  6.421  78.9  4.9671    2  242     17.8   \n",
            "2  0.02729   0.0   7.07     0  0.469  7.185  61.1  4.9671    2  242     17.8   \n",
            "\n",
            "        B  LSTAT  MEDV  \n",
            "0  396.90   4.98  24.0  \n",
            "1  396.90   9.14  21.6  \n",
            "2  392.83   4.03  34.7  \n",
            "The mean of each column:\n",
            "CRIM         3.613524\n",
            "ZN          11.363636\n",
            "INDUS       11.136779\n",
            "CHAS         0.069170\n",
            "NOX          0.554695\n",
            "RM           6.284634\n",
            "AGE         68.574901\n",
            "DIS          3.795043\n",
            "RAD          9.549407\n",
            "TAX        408.237154\n",
            "PTRATIO     18.455534\n",
            "B          356.674032\n",
            "LSTAT       12.653063\n",
            "MEDV        22.532806\n",
            "dtype: float64\n",
            "The standard deviation of each column:\n",
            "CRIM         8.601545\n",
            "ZN          23.322453\n",
            "INDUS        6.860353\n",
            "CHAS         0.253994\n",
            "NOX          0.115878\n",
            "RM           0.702617\n",
            "AGE         28.148861\n",
            "DIS          2.105710\n",
            "RAD          8.707259\n",
            "TAX        168.537116\n",
            "PTRATIO      2.164946\n",
            "B           91.294864\n",
            "LSTAT        7.141062\n",
            "MEDV         9.197104\n",
            "dtype: float64\n"
          ]
        }
      ],
      "source": [
        "train_df = pd.read_csv('https://raw.githubusercontent.com/lavagno/eesam/main/housing.csv')\n",
        "print(\"Some generic information about the dataframe:\")\n",
        "print(train_df.info())\n",
        "print(\"The first three rows of the dataframe:\")\n",
        "print(train_df.head(3))\n",
        "print(\"The mean of each column:\")\n",
        "print(train_df.mean())\n",
        "print(\"The standard deviation of each column:\")\n",
        "print(train_df.std())"
      ]
    },
    {
      "cell_type": "markdown",
      "metadata": {
        "id": "4mK3QyxOgzqr"
      },
      "source": [
        "The meanings of the data columns are:\n",
        "- CRIM per capita crime rate by town\n",
        "- ZN proportion of residential land zoned for lots over 25,000 sq.ft.\n",
        "- INDUS proportion of non-retail business acres per town\n",
        "- CHAS Charles River = 1 if tract bounds river; 0 otherwise\n",
        "- NOX nitric oxides concentration (parts per 10 million)\n",
        "- RM average number of rooms per dwelling\n",
        "- AGE proportion of owner-occupied units built prior to 1940\n",
        "- DIS weighted distances to five Boston employment centres\n",
        "- RAD index of accessibility to radial highways\n",
        "- TAX full-value property-tax rate per 10,000 dollars\n",
        "- PTRATIO pupil-teacher ratio by town\n",
        "- B is a function of the proportion of blacks by town\n",
        "- LSTAT % lower status of the population\n",
        "- MEDV Median value of owner-occupied homes in 1000's of dollars, and this is the **target** of the model.\n",
        "\n"
      ]
    },
    {
      "cell_type": "markdown",
      "metadata": {
        "id": "zxOb69GAGsHs"
      },
      "source": [
        "## Training Linear Regression\n",
        "Let us split our data into a training set and a validation set. We will hold out 30% of the data for validation. We will use a **fixed initial random state** to make our experiment reproducible (in practice, you should never do that, except for model debugging).\n",
        "\n",
        "The `drop()` method of the dataframe simply removes the named column, and it is much easier to use than listing explicitly all the features."
      ]
    },
    {
      "cell_type": "code",
      "execution_count": 3,
      "metadata": {
        "id": "-yWRd9EOzYHt"
      },
      "outputs": [],
      "source": [
        "X = train_df.drop('MEDV', axis=1)\n",
        "y = train_df['MEDV']\n",
        "\n",
        "X_train, X_val, y_train, y_val = train_test_split(X, y, random_state=42, test_size=0.3)"
      ]
    },
    {
      "cell_type": "markdown",
      "metadata": {
        "id": "lFdQiBXxzvHl"
      },
      "source": [
        "Let us establish a baseline by training a linear regression model.\n",
        "\n",
        "The `fit()` function of the `LinearRegression` class performs the training, and the `predict()` function evaluates the model. This is then used to compute our usual loss function (mean square error) and its root (which is directly comparable with the mean house price) for both testing and validation.\n",
        "\n",
        "Finally we also print the [$R^2$ score of the prediction](https://en.wikipedia.org/wiki/Coefficient_of_determination), which is a standard quality index used in statistics. It is similar to the training accuracy measure and it roughly tells how much of the data variance is predicted by the model. It is a number from 0 to 1, and the closer it is to 1, the better our model is.\n",
        "- **Low values of $R^2$ for both sets** are an indication of **underfitting**.\n",
        "- **Lower values of $R^2$ for the validation set than for the training set** are an indication of **overfitting**"
      ]
    },
    {
      "cell_type": "code",
      "execution_count": 4,
      "metadata": {
        "colab": {
          "base_uri": "https://localhost:8080/"
        },
        "id": "LHhruNlq0OAC",
        "outputId": "3a5bdfd6-12cf-44b6-dc45-b3bad614c59b"
      },
      "outputs": [
        {
          "name": "stdout",
          "output_type": "stream",
          "text": [
            "Training MSE:  22.545481487421423  RMSE:  4.748208239685937\n",
            "Validation MSE:  21.517444231177183  RMSE:  4.638689926172818\n",
            "Training score: 0.7434997532004697\n",
            "Validation score: 0.7112260057484936\n"
          ]
        }
      ],
      "source": [
        "lr_model = LinearRegression()\n",
        "lr_model.fit(X_train, y_train)\n",
        "\n",
        "y_pred_train = lr_model.predict(X_train)\n",
        "mse_train = mean_squared_error(y_train, y_pred_train)\n",
        "rmse_train = math.sqrt(mse_train)\n",
        "print('Training MSE: ', mse_train, ' RMSE: ', rmse_train)\n",
        "\n",
        "y_pred_val = lr_model.predict(X_val)\n",
        "mse_val = mean_squared_error(y_val, y_pred_val)\n",
        "rmse_val = math.sqrt(mse_val)\n",
        "print('Validation MSE: ', mse_val, ' RMSE: ', rmse_val)\n",
        "\n",
        "print('Training score: {}'.format(lr_model.score(X_train, y_train)))\n",
        "print('Validation score: {}'.format(lr_model.score(X_val, y_val)))"
      ]
    },
    {
      "cell_type": "markdown",
      "metadata": {
        "id": "0ZPBdLAo3U6C"
      },
      "source": [
        "As you can see, MSEs, RMSEs and scores are not too far from each other. This means that the model is **not grossly overfitting**.\n",
        "\n",
        "On the other hand\n",
        "- both RMSEs, around 4.5, are relatively large with respect to the mean house value (MEDV) of 22, and they are not too far from the standard deviation, which is 9.\n",
        "- both scores are around 0.7, which is low.\n",
        "This means that the model is **probably underfitting**.\n",
        "\n",
        "The only way to \"prove\" and **solve** underfitting, is to try a more complex model, with more parameters, and hence better able to model the underlying data population.\n",
        "\n"
      ]
    },
    {
      "cell_type": "markdown",
      "metadata": {
        "id": "QJNfy0o30vCl"
      },
      "source": [
        "## Polynomial Regression\n",
        "We will use **Polynomial Regression**, i.e. linear regression with a set of polynomial mapping functions (in general **Generalized Linear Regression** can use functions of the features such as sine, cosine, exponential, etc.).\n",
        "Thankfully, scikit-learn has an implementation for this and we do not need to do it manually. It is the [`PolynomialFeatures`](https://scikit-learn.org/stable/modules/generated/sklearn.preprocessing.PolynomialFeatures.html) class.\n",
        "\n",
        "Note that in our lessons we saw polynomial features only of one feature. When there are multiple features, **also the cross-products**, up to the specified degree, will be inserted. For example, if there are two features `[a,b]` the resulting polynomial feature vector will be:\n",
        "```\n",
        "[1, a, b, a^2, ab, b^2]\n",
        "```\n",
        "Since we have 13 features in our dataset, we have 13 features for the 1st degree, 13 for the 2nd degree, and 13*2/2 for the mixed products, plus the constant term, i.e. 105 features and weights in total."
      ]
    },
    {
      "cell_type": "markdown",
      "metadata": {
        "id": "PKIPbmmt1LKd"
      },
      "source": [
        "## Scaling\n",
        "Something else that we would like to do is **scale** our data to a range between 0 and 1. This serves the purpose of letting us work with **reasonable numbers when we raise a feature to a power**. As we saw, it also improves the convergence speed for the model, albeit this not really a problem in this case, since the dataset is really small.\n",
        "\n"
      ]
    },
    {
      "cell_type": "markdown",
      "metadata": {
        "id": "oMpuZg9f1QJl"
      },
      "source": [
        "## Pipelining\n",
        "Finally, because we need to carry out the same operations on our training and validation (and in real practice test) sets, we will introduce a **pipeline** (conceptually similar to a unix pipeline between processes, or a processor pipeline). This will let us pipe the work done by the methods of our classes, so that the same steps get carried out repeatedly for every variation of the hyperparameters that we want to tune.\n",
        "This is one of the cases in which using an object-oriented language greatly helps, since if all the stages of a pipeline derive from a few parent classes, the pipeline can be designed to work by calling the \"right\" method of each stage.\n",
        "\n",
        "To summarize, we will scale our data, then create polynomial features up to the second degree, and then train a linear regression model.\n",
        "\n",
        "Very conveniently, the pipeline class itself **inherits** the fit and predict methods from the LinearRegression class that it uses, hence we will be able to call them directly from the pipeline, rather than having to access the underlying model instance."
      ]
    },
    {
      "cell_type": "code",
      "execution_count": 5,
      "metadata": {
        "colab": {
          "base_uri": "https://localhost:8080/"
        },
        "id": "N7aYVieY41AD",
        "outputId": "5a09e299-ceaa-4c5f-c2e7-5583613b3bdb"
      },
      "outputs": [
        {
          "name": "stdout",
          "output_type": "stream",
          "text": [
            "Training MSE:  4.660318639997241  RMSE:  2.158777116794886\n",
            "Validation MSE:  25.257540307734835  RMSE:  5.025688043217052\n",
            "Training score: 0.9469794920108198\n",
            "Validation score: 0.6610321968877256\n"
          ]
        }
      ],
      "source": [
        "steps = [\n",
        "    ('scalar', StandardScaler()),\n",
        "    ('poly', PolynomialFeatures(degree=2)),\n",
        "    ('model', LinearRegression())\n",
        "]\n",
        "\n",
        "pipeline = Pipeline(steps)\n",
        "\n",
        "pipeline.fit(X_train, y_train)\n",
        "\n",
        "y_pred_train = pipeline.predict(X_train)\n",
        "mse_train = mean_squared_error(y_train, y_pred_train)\n",
        "rmse_train = math.sqrt(mse_train)\n",
        "print('Training MSE: ', mse_train, ' RMSE: ', rmse_train)\n",
        "\n",
        "y_pred_val = pipeline.predict(X_val)\n",
        "mse_val = mean_squared_error(y_val, y_pred_val)\n",
        "rmse_val = math.sqrt(mse_val)\n",
        "print('Validation MSE: ', mse_val, ' RMSE: ', rmse_val)\n",
        "\n",
        "print('Training score: {}'.format(pipeline.score(X_train, y_train)))\n",
        "print('Validation score: {}'.format(pipeline.score(X_val, y_val)))"
      ]
    },
    {
      "cell_type": "markdown",
      "metadata": {
        "id": "cH5hcO9E9fga"
      },
      "source": [
        "## Analyzing the polynomial regression results and regularization\n",
        "As expected, the training MSE and RMSE decrease significantly, and the training score increases significantly because the model, being more complex, can better fit the **training** data (but, as we saw, may overfit).\n",
        "\n",
        "But the validation errors and the validation score become much worse. This means that we are now **overfitting**, and now is the time to use **regularization** to reduce its impact.\n",
        "\n",
        "Remember that **some initial overfitting is good**, because it allows us to use regularization to **automatically search for the best model**.\n",
        "\n",
        "We will use Ridge regularization for Linear Regression (also called simply Ridge Regression), which adds the squares of the weights to the loss function.\n",
        "\n",
        "Note that the regularization strength, i.e. the coefficient used to multiply the sum of the squares of the weights, that we called $\\lambda$ in our lessons, is called `alpha` in scikit-learn.\n"
      ]
    },
    {
      "cell_type": "code",
      "execution_count": 8,
      "metadata": {
        "colab": {
          "base_uri": "https://localhost:8080/"
        },
        "id": "Y6rtyhDJ_XPE",
        "outputId": "2f209cec-7f56-4eb2-98d5-7d4ac272e556"
      },
      "outputs": [
        {
          "name": "stdout",
          "output_type": "stream",
          "text": [
            "Training MSE:  4.711271197926952  RMSE:  2.170546290205982\n",
            "Validation MSE:  24.062638849089595  RMSE:  4.905368370376438\n",
            "Training Score: 0.9463998040724038\n",
            "Validation Score: 0.6770683238200299\n"
          ]
        }
      ],
      "source": [
        "ridge_steps = [\n",
        "    ('scalar', StandardScaler()),\n",
        "    ('poly', PolynomialFeatures(degree=2)),\n",
        "    ('model', Ridge(alpha=0.1))\n",
        "]\n",
        "\n",
        "ridge_pipe = Pipeline(ridge_steps)\n",
        "ridge_pipe.fit(X_train, y_train)\n",
        "\n",
        "y_pred_train = ridge_pipe.predict(X_train)\n",
        "mse_train = mean_squared_error(y_train, y_pred_train)\n",
        "rmse_train = math.sqrt(mse_train)\n",
        "print('Training MSE: ', mse_train, ' RMSE: ', rmse_train)\n",
        "\n",
        "y_pred_val = ridge_pipe.predict(X_val)\n",
        "mse_val = mean_squared_error(y_val, y_pred_val)\n",
        "rmse_val = math.sqrt(mse_val)\n",
        "print('Validation MSE: ', mse_val, ' RMSE: ', rmse_val)\n",
        "\n",
        "print('Training Score: {}'.format(ridge_pipe.score(X_train, y_train)))\n",
        "print('Validation Score: {}'.format(ridge_pipe.score(X_val, y_val)))"
      ]
    },
    {
      "cell_type": "markdown",
      "metadata": {
        "id": "C-mkzVCH_07w"
      },
      "source": [
        "Now all the measures are **better than with only linear regression**. This means that the target is sensitive to the square or the cross-product of **some features**, but possibly not all of them.\n"
      ]
    },
    {
      "cell_type": "markdown",
      "metadata": {
        "id": "So0tRddXOUhN"
      },
      "source": [
        "## Analyzing the results of regularization\n",
        "Let us now print the weights with these two commands.\n",
        "- The first one \"extracts\" the model step from the pipeline.\n",
        "- The second one prints the 105 weights.\n",
        "\n",
        "Note how almost none of the weights are close to zero. If we want to bring them closer to zero, we must:\n",
        "- either increase `alpha` as long as the validation error does not increase \"too much\",\n",
        "- or use another regularization method (the Lasso Regularization mentioned below) whose goal is actually to **force** some weights to become zero.\n",
        "\n",
        "On the other hand, the goal of Ridge is simply to **improve the generalization power of the model**, based on the empirical observation that large weights \"hurt\" generalization, without really forcing them to zero."
      ]
    },
    {
      "cell_type": "code",
      "execution_count": 9,
      "metadata": {
        "colab": {
          "base_uri": "https://localhost:8080/"
        },
        "id": "eupIl1XRAv37",
        "outputId": "19e07acf-c168-4c6f-e582-69d90d82fdca"
      },
      "outputs": [
        {
          "name": "stdout",
          "output_type": "stream",
          "text": [
            "105\n",
            "[ 0.          3.53826063 -1.5562031   2.41129376  0.03784823 -1.0290763\n",
            "  3.67969521 -1.88989518 -0.8499394  -2.21599825  1.57888679 -0.35053083\n",
            "  1.05644525 -3.56831357  0.13259235 -1.17194057  4.20862862  5.3668381\n",
            " -1.95694487  1.12483705  0.54014092  2.30963112 -4.24347606 -2.30728568\n",
            "  4.25798253 -0.41059196  2.16307096 -0.18992476  0.03155989 -0.23787267\n",
            " -1.96456679  0.26647517  0.35611705 -0.81680707 -3.07992388  3.21052917\n",
            "  0.16049884 -0.69912577 -1.30045339  2.06208986 -0.53547895  1.00575246\n",
            "  1.92362506  0.5047473   1.84036601  0.64618498  0.10475483 -0.20796908\n",
            "  1.388942   -0.70518646  0.12377384 -1.07839172 -1.12242286 -0.67758622\n",
            " -1.54671357  0.55451718 -0.0229335  -0.83571554  2.61894748 -0.86166319\n",
            " -1.68780096 -0.57702985  0.34666214  2.32717122 -0.64074245  3.05318031\n",
            " -3.00227495 -0.59939699  0.97799386  0.67156665 -1.68733215 -0.77027621\n",
            " -0.70727218 -2.70224539 -0.56054023 -0.4407643   0.15312699 -0.2117823\n",
            "  0.43087444  3.04940386 -2.10943667 -0.14578831 -0.81698457 -1.77867209\n",
            "  1.86580466  0.61957426 -2.28972698 -1.43628156 -0.88105981  0.1545811\n",
            " -6.84495912  6.40988846 -2.14817194  2.68365376 -1.62474584 -1.23246785\n",
            "  2.03610555 -4.82251052 -1.91357417  0.32104894  0.31787328  0.52233734\n",
            " -0.39409691  0.43623215  1.07201836]\n"
          ]
        }
      ],
      "source": [
        "lr=ridge_pipe.named_steps['model']\n",
        "print(lr.coef_.size)\n",
        "print(lr.coef_)"
      ]
    },
    {
      "cell_type": "markdown",
      "metadata": {
        "id": "OnPwTg1YUGzd"
      },
      "source": [
        "## Your tasks\n",
        "1. Find (by trial and error) the \"best\" value of `alpha` that leads to the smallest validation error.\n",
        "1. Try another form of regularization, namely the Lasso, which adds the modules of the weights (i.e. minimizes the L1 norm of the vector of weights), rather than their squares. See if:\n",
        " - it improves the validation performance,\n",
        " - it makes some weights closer to zero (with Ridge Regression, the smallest one was $-4\\cdot10^{-4}$).\n",
        "\n",
        "Note that\n",
        "- the `alpha` coefficient for `Ridge` can be arbitrary but must be non-negative (values that are too large or too small may be sub-optimal, of course).\n",
        "- the `alpha` coefficient for Lasso must be between 0 and 1, otherwise the method may not converge to a reasonable model.\n",
        "- with `alpha` (i.e. $\\lambda$) =0 both Ridge and Lasso are simply Linear Regression, of course.\n",
        "- there is a third regularization mechanism, namely [`ElasticNet`](scikit-learn.org/stable/modules/generated/sklearn.linear_model.ElasticNet.html) that combines the \"best\" features of both `Lasso` and `Ridge`, using two separate coefficients to minimize both the L1 and L2 norms of the weights. In this particular case, it does not improve things dramatically, but you can try it out if you are curious (as you should be :-) )."
      ]
    },
    {
      "cell_type": "code",
      "execution_count": 14,
      "metadata": {
        "colab": {
          "base_uri": "https://localhost:8080/"
        },
        "id": "FN7JpGejXZ-T",
        "outputId": "507ffc22-6d45-4fe3-accf-81e03fb6ef2d"
      },
      "outputs": [
        {
          "name": "stdout",
          "output_type": "stream",
          "text": [
            "=== LASSO sweep su alpha ===\n"
          ]
        },
        {
          "name": "stderr",
          "output_type": "stream",
          "text": [
            "/usr/local/lib/python3.12/dist-packages/sklearn/base.py:1389: UserWarning: With alpha=0, this algorithm does not converge well. You are advised to use the LinearRegression estimator\n",
            "  return fit_method(estimator, *args, **kwargs)\n",
            "/usr/local/lib/python3.12/dist-packages/sklearn/linear_model/_coordinate_descent.py:695: UserWarning: Coordinate descent with no regularization may lead to unexpected results and is discouraged.\n",
            "  model = cd_fast.enet_coordinate_descent(\n",
            "/usr/local/lib/python3.12/dist-packages/sklearn/linear_model/_coordinate_descent.py:695: ConvergenceWarning: Objective did not converge. You might want to increase the number of iterations, check the scale of the features or consider increasing regularisation. Duality gap: 8.352e+02, tolerance: 3.112e+00 Linear regression models with null weight for the l1 regularization term are more efficiently fitted using one of the solvers implemented in sklearn.linear_model.Ridge/RidgeCV instead.\n",
            "  model = cd_fast.enet_coordinate_descent(\n"
          ]
        },
        {
          "name": "stdout",
          "output_type": "stream",
          "text": [
            "\n",
            "alpha = 0\n",
            "Training MSE:  4.718867721171118  RMSE:  2.1722954958225915\n",
            "Validation MSE:  23.81727162181733  RMSE:  4.880294214677772\n",
            "Training Score: 0.9463133783250524\n",
            "Validation Score: 0.6803612648178816\n",
            "104\n",
            "Non-zero weights: 104\n",
            "Smallest abs weight: 0.04613239722169756\n"
          ]
        },
        {
          "name": "stderr",
          "output_type": "stream",
          "text": [
            "/usr/local/lib/python3.12/dist-packages/sklearn/linear_model/_coordinate_descent.py:695: ConvergenceWarning: Objective did not converge. You might want to increase the number of iterations, check the scale of the features or consider increasing regularisation. Duality gap: 6.497e+02, tolerance: 3.112e+00\n",
            "  model = cd_fast.enet_coordinate_descent(\n"
          ]
        },
        {
          "name": "stdout",
          "output_type": "stream",
          "text": [
            "\n",
            "alpha = 0.0001\n",
            "Training MSE:  4.737786771177615  RMSE:  2.176645761527956\n",
            "Validation MSE:  23.105678504440018  RMSE:  4.806836642162912\n",
            "Training Score: 0.9460981360380963\n",
            "Validation Score: 0.6899111716088187\n",
            "104\n",
            "Non-zero weights: 103\n",
            "Smallest abs weight: 0.0\n"
          ]
        },
        {
          "name": "stderr",
          "output_type": "stream",
          "text": [
            "/usr/local/lib/python3.12/dist-packages/sklearn/linear_model/_coordinate_descent.py:695: ConvergenceWarning: Objective did not converge. You might want to increase the number of iterations, check the scale of the features or consider increasing regularisation. Duality gap: 1.329e+01, tolerance: 3.112e+00\n",
            "  model = cd_fast.enet_coordinate_descent(\n"
          ]
        },
        {
          "name": "stdout",
          "output_type": "stream",
          "text": [
            "\n",
            "alpha = 0.001\n",
            "Training MSE:  5.008449599865825  RMSE:  2.237956567913199\n",
            "Validation MSE:  20.735343423290836  RMSE:  4.553607737090541\n",
            "Training Score: 0.943018801387527\n",
            "Validation Score: 0.7217221581620517\n",
            "104\n",
            "Non-zero weights: 85\n",
            "Smallest abs weight: 0.0\n",
            "\n",
            "alpha = 0.01\n",
            "Training MSE:  6.881833955728284  RMSE:  2.6233249809599046\n",
            "Validation MSE:  16.759102528464187  RMSE:  4.093788285740261\n",
            "Training Score: 0.9217052823173225\n",
            "Validation Score: 0.7750851390518344\n",
            "104\n",
            "Non-zero weights: 50\n",
            "Smallest abs weight: 0.0\n",
            "\n",
            "alpha = 0.1\n",
            "Training MSE:  13.960382781035289  RMSE:  3.736359562600378\n",
            "Validation MSE:  15.426913616896794  RMSE:  3.9277109894818882\n",
            "Training Score: 0.8411725369116961\n",
            "Validation Score: 0.7929637267204144\n",
            "104\n",
            "Non-zero weights: 24\n",
            "Smallest abs weight: 0.0\n",
            "\n",
            "alpha = 0.3\n",
            "Training MSE:  18.16082464543094  RMSE:  4.261551905753459\n",
            "Validation MSE:  18.754312950490647  RMSE:  4.330625006911895\n",
            "Training Score: 0.7933840531977566\n",
            "Validation Score: 0.748308497888011\n",
            "104\n",
            "Non-zero weights: 13\n",
            "Smallest abs weight: 0.0\n",
            "\n",
            "alpha = 1\n",
            "Training MSE:  23.53960467026613  RMSE:  4.851763047621568\n",
            "Validation MSE:  22.322057622238685  RMSE:  4.7246224846265426\n",
            "Training Score: 0.7321896003482866\n",
            "Validation Score: 0.7004277241185397\n",
            "104\n",
            "Non-zero weights: 7\n",
            "Smallest abs weight: 0.0\n",
            "\n",
            "=== MIGLIORE (in base a RMSE validation) ===\n",
            "alpha = 0.1\n",
            "Training RMSE: 3.736359562600378  | Validation RMSE: 3.9277109894818882\n",
            "Training R2  : 0.8411725369116961  | Validation R2  : 0.7929637267204144\n",
            "Non-zero weights: 24 | Smallest abs weight: 0.0\n"
          ]
        }
      ],
      "source": [
        "from sklearn.pipeline import Pipeline\n",
        "from sklearn.preprocessing import PolynomialFeatures, StandardScaler\n",
        "from sklearn.linear_model import Lasso\n",
        "from sklearn.metrics import mean_squared_error, r2_score\n",
        "import numpy as np, math\n",
        "\n",
        "alphas = [0, 1e-4, 1e-3, 1e-2, 0.1, 0.3, 1]\n",
        "\n",
        "best = {\n",
        "    'alpha': None, 'rmse_val': float('inf'),\n",
        "    'rmse_train': None, 'r2_train': None, 'r2_val': None,\n",
        "    'nonzero': None, 'min_abs': None\n",
        "}\n",
        "\n",
        "print(\"=== LASSO sweep su alpha ===\")\n",
        "for alpha in alphas:\n",
        "    lasso_steps = [\n",
        "        ('poly', PolynomialFeatures(degree=2, include_bias=False)),\n",
        "        ('scalar', StandardScaler()),\n",
        "        ('model', Lasso(alpha=alpha, max_iter=50000))\n",
        "    ]\n",
        "    lasso_pipe = Pipeline(lasso_steps)\n",
        "    lasso_pipe.fit(X_train, y_train)\n",
        "\n",
        "    # metriche train\n",
        "    y_pred_train = lasso_pipe.predict(X_train)\n",
        "    mse_train = mean_squared_error(y_train, y_pred_train)\n",
        "    rmse_train = math.sqrt(mse_train)\n",
        "    r2_tr = r2_score(y_train, y_pred_train)\n",
        "\n",
        "    # metriche validation\n",
        "    y_pred_val = lasso_pipe.predict(X_val)\n",
        "    mse_val = mean_squared_error(y_val, y_pred_val)\n",
        "    rmse_val = math.sqrt(mse_val)\n",
        "    r2_v = r2_score(y_val, y_pred_val)\n",
        "\n",
        "    # sparsità dei pesi\n",
        "    coefs = lasso_pipe.named_steps['model'].coef_\n",
        "    nonzero = int(np.sum(np.abs(coefs) > 1e-8))\n",
        "    min_abs = float(np.min(np.abs(coefs))) if coefs.size > 0 else float('nan')\n",
        "\n",
        "    print(f\"\\nalpha = {alpha}\")\n",
        "    print('Training MSE: ', mse_train, ' RMSE: ', rmse_train)\n",
        "    print('Validation MSE: ', mse_val, ' RMSE: ', rmse_val)\n",
        "    print('Training Score:', r2_tr)\n",
        "    print('Validation Score:', r2_v)\n",
        "    print(len(coefs))\n",
        "    print('Non-zero weights:', nonzero)\n",
        "    print('Smallest abs weight:', min_abs)\n",
        "\n",
        "    # aggiorna best\n",
        "    if rmse_val < best['rmse_val']:\n",
        "        best.update({\n",
        "            'alpha': alpha, 'rmse_val': rmse_val,\n",
        "            'rmse_train': rmse_train, 'r2_train': r2_tr, 'r2_val': r2_v,\n",
        "            'nonzero': nonzero, 'min_abs': min_abs\n",
        "        })\n",
        "\n",
        "print(\"\\n=== MIGLIORE (in base a RMSE validation) ===\")\n",
        "print(f\"alpha = {best['alpha']}\")\n",
        "print('Training RMSE:', best['rmse_train'], ' | Validation RMSE:', best['rmse_val'])\n",
        "print('Training R2  :', best['r2_train'],   ' | Validation R2  :', best['r2_val'])\n",
        "print('Non-zero weights:', best['nonzero'],  '| Smallest abs weight:', best['min_abs'])\n"
      ]
    },
    {
      "cell_type": "markdown",
      "metadata": {
        "id": "mjuBEq5gY84f"
      },
      "source": [
        "## Analysis hints\n",
        "You may (should? :-) ) have noticed that Lasso regularization actually forces several weights to be **zero**, not just small.\n",
        "It is one of the mechanisms (in addition to Principal Component Analysis and Singular Value Decomposition that we will see among the unsupervised learning approaches) to identify **which features are least important, or not important at all** for a given target of a given dataset.\n",
        "\n",
        "Credits: the lab was mostly taken from [here](https://medium.com/coinmonks/regularization-of-linear-models-with-sklearn-f88633a93a2)."
      ]
    }
  ],
  "metadata": {
    "accelerator": "GPU",
    "colab": {
      "gpuType": "T4",
      "include_colab_link": true,
      "provenance": [],
      "toc_visible": true
    },
    "kernelspec": {
      "display_name": "Python 3",
      "name": "python3"
    }
  },
  "nbformat": 4,
  "nbformat_minor": 0
}
