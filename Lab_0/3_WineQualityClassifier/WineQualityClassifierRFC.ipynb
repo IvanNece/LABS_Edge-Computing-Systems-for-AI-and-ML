{
  "cells": [
    {
      "cell_type": "markdown",
      "metadata": {
        "id": "view-in-github",
        "colab_type": "text"
      },
      "source": [
        "<a href=\"https://colab.research.google.com/github/IvanNece/LABS_Edge-Computing-Systems-for-AI-and-ML/blob/main/Lab_0/3_WineQualityClassifier/WineQualityClassifierRFC.ipynb\" target=\"_parent\"><img src=\"https://colab.research.google.com/assets/colab-badge.svg\" alt=\"Open In Colab\"/></a>"
      ]
    },
    {
      "cell_type": "markdown",
      "metadata": {
        "id": "S-Cebs7ljJ0D"
      },
      "source": [
        "# Random Forest Wine Quality Classifier with scikit-learn"
      ]
    },
    {
      "cell_type": "markdown",
      "metadata": {
        "id": "zk4hLuzOG2FV"
      },
      "source": [
        "To begin, let's import **numpy**, which provides support for more efficient numerical computation, and **pandas**, a convenient library that supports dataframes. Pandas is technically optional because Scikit-Learn can handle numerical matrices directly, but it'll make our lives easier:"
      ]
    },
    {
      "cell_type": "code",
      "execution_count": 1,
      "metadata": {
        "id": "FiauSZrwi6fH"
      },
      "outputs": [],
      "source": [
        "import numpy as np\n",
        "import pandas as pd"
      ]
    },
    {
      "cell_type": "markdown",
      "metadata": {
        "id": "HonKnp5FkLsh"
      },
      "source": [
        "Now it's time to start importing functions for machine learning. The first one will be the train_test_split() function from the model_selection module. As its name implies, this module contains many utilities that will help us choose between models. Next, we'll import the entire preprocessing module. This contains utilities for scaling, transforming, and wrangling data."
      ]
    },
    {
      "cell_type": "code",
      "execution_count": 2,
      "metadata": {
        "id": "2ER7gp1nkUcz"
      },
      "outputs": [],
      "source": [
        "from sklearn.model_selection import train_test_split\n",
        "from sklearn import preprocessing"
      ]
    },
    {
      "cell_type": "markdown",
      "metadata": {
        "id": "AqXHhFyhkgyr"
      },
      "source": [
        "Next, let's import the **families** of models we'll need. What's the difference between model \"families\" and actual models?  A \"family\" of models are broad types of models, such as random forests, SVM's, linear regression models, etc. Within each family of models, you'll get an actual model after you fit and tune its parameters to the data.\n",
        "\n",
        "We can import the random forest family like so:"
      ]
    },
    {
      "cell_type": "code",
      "execution_count": 3,
      "metadata": {
        "id": "cZhXZYxLky31"
      },
      "outputs": [],
      "source": [
        "from sklearn.ensemble import RandomForestClassifier"
      ]
    },
    {
      "cell_type": "markdown",
      "metadata": {
        "id": "-eiEjZZolKEt"
      },
      "source": [
        "For now, let's move on to importing the tools to help us perform cross-validation."
      ]
    },
    {
      "cell_type": "code",
      "execution_count": 4,
      "metadata": {
        "id": "WVmdotRFlOVl"
      },
      "outputs": [],
      "source": [
        "from sklearn.pipeline import make_pipeline\n",
        "from sklearn.model_selection import GridSearchCV"
      ]
    },
    {
      "cell_type": "markdown",
      "metadata": {
        "id": "Pz6WBGcLlSRm"
      },
      "source": [
        "Next, let's import some metrics we can use to evaluate our model performance later."
      ]
    },
    {
      "cell_type": "code",
      "execution_count": 5,
      "metadata": {
        "id": "ruEZfuKLlPYF"
      },
      "outputs": [],
      "source": [
        "from sklearn.metrics import mean_squared_error, r2_score"
      ]
    },
    {
      "cell_type": "markdown",
      "metadata": {
        "id": "JnoM4n7tlZCk"
      },
      "source": [
        "And finally, we'll import a way to save our model for future use. Joblib is an alternative to Python's pickle package, and we'll use it because it's more efficient for storing large numpy arrays."
      ]
    },
    {
      "cell_type": "code",
      "execution_count": 6,
      "metadata": {
        "id": "wae8DxROleOP"
      },
      "outputs": [],
      "source": [
        "import joblib"
      ]
    },
    {
      "cell_type": "markdown",
      "metadata": {
        "id": "pRnN0VS_l64b"
      },
      "source": [
        "Now we're ready to load our data set. The Pandas library help us read data from CSV, Excel, SQL, SAS, and many other data formats.\n",
        "\n",
        "The convenient tool we'll use today is the read_csv() function. Using this function, we can load any CSV file, even from a remote URL. We load the red wine dataset and print the first 5 rows of data and some relevant statistics:"
      ]
    },
    {
      "cell_type": "code",
      "execution_count": 10,
      "metadata": {
        "colab": {
          "base_uri": "https://localhost:8080/"
        },
        "id": "Xqg9wi72mQoq",
        "outputId": "247f8fb8-6587-4368-bcdb-9776afa0275d"
      },
      "outputs": [
        {
          "output_type": "stream",
          "name": "stdout",
          "text": [
            "   fixed acidity  volatile acidity  citric acid  residual sugar  chlorides  \\\n",
            "0            7.4              0.70         0.00             1.9      0.076   \n",
            "1            7.8              0.88         0.00             2.6      0.098   \n",
            "2            7.8              0.76         0.04             2.3      0.092   \n",
            "3           11.2              0.28         0.56             1.9      0.075   \n",
            "4            7.4              0.70         0.00             1.9      0.076   \n",
            "\n",
            "   free sulfur dioxide  total sulfur dioxide  density    pH  sulphates  \\\n",
            "0                 11.0                  34.0   0.9978  3.51       0.56   \n",
            "1                 25.0                  67.0   0.9968  3.20       0.68   \n",
            "2                 15.0                  54.0   0.9970  3.26       0.65   \n",
            "3                 17.0                  60.0   0.9980  3.16       0.58   \n",
            "4                 11.0                  34.0   0.9978  3.51       0.56   \n",
            "\n",
            "   alcohol  quality  \n",
            "0      9.4        5  \n",
            "1      9.8        5  \n",
            "2      9.8        5  \n",
            "3      9.8        6  \n",
            "4      9.4        5  \n",
            "(1599, 12)\n",
            "       fixed acidity  volatile acidity  citric acid  residual sugar  \\\n",
            "count    1599.000000       1599.000000  1599.000000     1599.000000   \n",
            "mean        8.319637          0.527821     0.270976        2.538806   \n",
            "std         1.741096          0.179060     0.194801        1.409928   \n",
            "min         4.600000          0.120000     0.000000        0.900000   \n",
            "25%         7.100000          0.390000     0.090000        1.900000   \n",
            "50%         7.900000          0.520000     0.260000        2.200000   \n",
            "75%         9.200000          0.640000     0.420000        2.600000   \n",
            "max        15.900000          1.580000     1.000000       15.500000   \n",
            "\n",
            "         chlorides  free sulfur dioxide  total sulfur dioxide      density  \\\n",
            "count  1599.000000          1599.000000           1599.000000  1599.000000   \n",
            "mean      0.087467            15.874922             46.467792     0.996747   \n",
            "std       0.047065            10.460157             32.895324     0.001887   \n",
            "min       0.012000             1.000000              6.000000     0.990070   \n",
            "25%       0.070000             7.000000             22.000000     0.995600   \n",
            "50%       0.079000            14.000000             38.000000     0.996750   \n",
            "75%       0.090000            21.000000             62.000000     0.997835   \n",
            "max       0.611000            72.000000            289.000000     1.003690   \n",
            "\n",
            "                pH    sulphates      alcohol      quality  \n",
            "count  1599.000000  1599.000000  1599.000000  1599.000000  \n",
            "mean      3.311113     0.658149    10.422983     5.636023  \n",
            "std       0.154386     0.169507     1.065668     0.807569  \n",
            "min       2.740000     0.330000     8.400000     3.000000  \n",
            "25%       3.210000     0.550000     9.500000     5.000000  \n",
            "50%       3.310000     0.620000    10.200000     6.000000  \n",
            "75%       3.400000     0.730000    11.100000     6.000000  \n",
            "max       4.010000     2.000000    14.900000     8.000000  \n"
          ]
        }
      ],
      "source": [
        "dataset_red_url = 'https://archive.ics.uci.edu/ml/machine-learning-databases/wine-quality/winequality-red.csv'\n",
        "#dataset_white_url = 'https://archive.ics.uci.edu/ml/machine-learning-databases/wine-quality/winequality-white.csv'\n",
        "data = pd.read_csv(dataset_red_url,sep=\";\")\n",
        "print(data.head())\n",
        "print(data.shape)\n",
        "print(data.describe())"
      ]
    },
    {
      "cell_type": "markdown",
      "metadata": {
        "id": "aAiB5vUloBQi"
      },
      "source": [
        "Here's the list of all the features:\n",
        "*    quality (**target**)\n",
        "*    fixed acidity\n",
        "*    volatile acidity\n",
        "*    citric acid\n",
        "*    residual sugar\n",
        "*    chlorides\n",
        "*    free sulfur dioxide\n",
        "*    total sulfur dioxide\n",
        "*    density\n",
        "*    pH\n",
        "*    sulphates\n",
        "*    alcohol\n",
        "\n",
        "All of the features are numeric, which is convenient. However, they have some very different scales, so let's make a mental note to standardize the data later.\n",
        "\n",
        "For now, let's move on to splitting the data. Splitting the data into training and test sets at the beginning of your modeling workflow is crucial for getting a realistic estimate of your model's performance.\n",
        "\n",
        "First, let's separate our target (y) features from our input (X) features. Then we use the **train_test_split** function to separate the **training** set (80% in this case) from the **test** set (20%). We also use a random seed to perform the splitting and apply \"stratification.\" In this context, stratification means that the train_test_split method returns training and test subsets that have the same proportions of class labels as the input dataset."
      ]
    },
    {
      "cell_type": "code",
      "execution_count": 8,
      "metadata": {
        "id": "wv4US5BZooP9"
      },
      "outputs": [],
      "source": [
        "y = data.quality\n",
        "X = data.drop('quality', axis=1)\n",
        "X_train, X_test, y_train, y_test = train_test_split(X, y,\n",
        "                                                    test_size=0.2,\n",
        "                                                    random_state=123,\n",
        "                                                    stratify=y)"
      ]
    },
    {
      "cell_type": "markdown",
      "metadata": {
        "id": "3Xq0f1I2qUuM"
      },
      "source": [
        "Now it's time to perform standardization.\n",
        "\n",
        "Standardization is the process of subtracting the means from each feature and then dividing by the feature standard deviations.\n",
        "\n",
        "Standardization is a common requirement for machine learning tasks. Many algorithms assume that all features are centered around zero and have approximately the same variance.\n",
        "\n",
        "We use a feature in Scikit-Learn called the Transformer API (not to be confused with Transformer networks for Natural Language Processing). The Transformer API allows you to \"fit\" a preprocessing step using the training data the same way you'd fit a model and then use the same transformation on future data sets!\n",
        "\n",
        "Here's what that process looks like:\n",
        "\n",
        "*    Fit the transformer on the training set (saving the means and standard deviations)\n",
        "*    Apply the transformer to the training set (scaling the training data)\n",
        "*    Apply the transformer to the test set (using the same means and standard deviations)\n",
        "\n",
        "This makes your final estimate of model performance more realistic, and it allows to insert your preprocessing steps into a cross-validation pipeline.\n",
        "\n",
        "Here's how you do it:"
      ]
    },
    {
      "cell_type": "code",
      "execution_count": 11,
      "metadata": {
        "id": "7MXdnesIq4Ui"
      },
      "outputs": [],
      "source": [
        "scaler = preprocessing.StandardScaler().fit(X_train)"
      ]
    },
    {
      "cell_type": "markdown",
      "metadata": {
        "id": "2BeGOv-PrNTu"
      },
      "source": [
        "Now, the scaler object has the saved means and standard deviations for each feature in the training set.\n",
        "\n",
        "Let's confirm that worked:"
      ]
    },
    {
      "cell_type": "code",
      "execution_count": 12,
      "metadata": {
        "colab": {
          "base_uri": "https://localhost:8080/"
        },
        "id": "XJ1vDxD6rOh_",
        "outputId": "f2bf61e3-ea32-4c7f-ce81-89e72e7e68c9"
      },
      "outputs": [
        {
          "output_type": "stream",
          "name": "stdout",
          "text": [
            "[-5.04162533e-16 -2.08556444e-16  1.03371455e-16 -7.79819746e-17\n",
            " -7.09091908e-16 -9.06767146e-17 -2.53894801e-17 -2.23391154e-14\n",
            "  8.89538570e-16 -4.82400122e-16  7.76192677e-16]\n",
            "[1. 1. 1. 1. 1. 1. 1. 1. 1. 1. 1.]\n"
          ]
        }
      ],
      "source": [
        "X_train_scaled = scaler.transform(X_train)\n",
        "print(X_train_scaled.mean(axis=0))\n",
        "# [ 0.  0.  0.  0.  0.  0.  0.  0.  0.  0.  0.]\n",
        "print(X_train_scaled.std(axis=0))\n",
        "# [ 1.  1.  1.  1.  1.  1.  1.  1.  1.  1.  1.]"
      ]
    },
    {
      "cell_type": "markdown",
      "metadata": {
        "id": "Lo1TjqNMrgaS"
      },
      "source": [
        "Notice that the mean isn't exactly zero, but yet very small.\n",
        "\n",
        "Note how we're taking the scaler object and using it to transform the training set. We can transform the test set using the exact same means and standard deviations used to transform the training set. Notice how the scaled features in the test set are not perfectly centered at zero with unit variance!"
      ]
    },
    {
      "cell_type": "code",
      "execution_count": 13,
      "metadata": {
        "colab": {
          "base_uri": "https://localhost:8080/"
        },
        "id": "3DCDDZ84r0KO",
        "outputId": "97db20bf-2376-49a9-905d-1ab7c9bc0cd1"
      },
      "outputs": [
        {
          "output_type": "stream",
          "name": "stdout",
          "text": [
            "[-0.00557394 -0.01379692  0.00639383 -0.02115795  0.01000181  0.05080134\n",
            "  0.04727659 -0.00491557 -0.01622463 -0.00489094 -0.02344258]\n",
            "[0.99321244 0.92419246 0.95166836 0.95971113 1.03454363 0.97035169\n",
            " 0.96328528 0.9562574  0.99740768 0.97227308 1.01108118]\n"
          ]
        }
      ],
      "source": [
        "X_test_scaled = scaler.transform(X_test)\n",
        "\n",
        "print(X_test_scaled.mean(axis=0))\n",
        "# [ 0.02776704  0.02592492 -0.03078587 -0.03137977 -0.00471876 -0.04413827\n",
        "#  -0.02414174 -0.00293273 -0.00467444 -0.10894663  0.01043391]\n",
        "\n",
        "print(X_test_scaled.std(axis=0))\n",
        "# [ 1.02160495  1.00135689  0.97456598  0.91099054  0.86716698  0.94193125\n",
        "#  1.03673213  1.03145119  0.95734849  0.83829505  1.0286218 ]"
      ]
    },
    {
      "cell_type": "markdown",
      "metadata": {
        "id": "-8q9kfPZsCRW"
      },
      "source": [
        "This is exactly what we'd expect, as we're transforming the test set using the means from the training set, not from the test set itself.\n",
        "\n",
        "In practice, when we set up the cross-validation pipeline, we won't even need to manually fit the Transformer API. Instead, we'll simply declare the class object, like this:"
      ]
    },
    {
      "cell_type": "code",
      "execution_count": 14,
      "metadata": {
        "id": "Oh2HJNP-sLLa"
      },
      "outputs": [],
      "source": [
        "pipeline = make_pipeline(preprocessing.StandardScaler(),\n",
        "                         RandomForestClassifier(n_estimators=100))"
      ]
    },
    {
      "cell_type": "markdown",
      "metadata": {
        "id": "iGstikF7r8GD"
      },
      "source": [
        "This is exactly what it looks like: a modeling pipeline that first transforms the data using StandardScaler() and then fits a model using a random forest classifier. The number of trees in the forest is given by the parameter \"n_estimator\", which in this case is set to 100 (this is also the default value).\n",
        "\n",
        "\n",
        "Now it's time to consider the **hyperparameters** that we'll want to tune for our model. There are two types of parameters we need to worry about: model parameters and hyperparameters. Models parameters can be learned directly from the data (i.e. regression coefficients), while hyperparameters cannot.\n",
        "\n",
        "Hyperparameters express \"higher-level\" structural information about the model, and they are typically set before training the model.\n",
        "\n",
        "As an example, let's take our random forest for classification:\n",
        "\n",
        "Within each decision tree, the computer can empirically decide where to create branches based on either mean-squared-error (MSE) or mean-absolute-error (MAE). Therefore, the actual branch locations are model parameters.\n",
        "\n",
        "However, the algorithm does not know which of the two criteria, MSE or MAE, that it should use. The algorithm also cannot decide how many trees to include in the forest. These are examples of hyperparameters that the user must set.\n",
        "\n",
        "We can list the tunable hyperparameters like so:"
      ]
    },
    {
      "cell_type": "code",
      "execution_count": 15,
      "metadata": {
        "colab": {
          "base_uri": "https://localhost:8080/"
        },
        "id": "V2LPPnlMstAT",
        "outputId": "0764af1e-6457-45df-ecc0-4264295c8f9b"
      },
      "outputs": [
        {
          "output_type": "stream",
          "name": "stdout",
          "text": [
            "{'memory': None, 'steps': [('standardscaler', StandardScaler()), ('randomforestclassifier', RandomForestClassifier())], 'transform_input': None, 'verbose': False, 'standardscaler': StandardScaler(), 'randomforestclassifier': RandomForestClassifier(), 'standardscaler__copy': True, 'standardscaler__with_mean': True, 'standardscaler__with_std': True, 'randomforestclassifier__bootstrap': True, 'randomforestclassifier__ccp_alpha': 0.0, 'randomforestclassifier__class_weight': None, 'randomforestclassifier__criterion': 'gini', 'randomforestclassifier__max_depth': None, 'randomforestclassifier__max_features': 'sqrt', 'randomforestclassifier__max_leaf_nodes': None, 'randomforestclassifier__max_samples': None, 'randomforestclassifier__min_impurity_decrease': 0.0, 'randomforestclassifier__min_samples_leaf': 1, 'randomforestclassifier__min_samples_split': 2, 'randomforestclassifier__min_weight_fraction_leaf': 0.0, 'randomforestclassifier__monotonic_cst': None, 'randomforestclassifier__n_estimators': 100, 'randomforestclassifier__n_jobs': None, 'randomforestclassifier__oob_score': False, 'randomforestclassifier__random_state': None, 'randomforestclassifier__verbose': 0, 'randomforestclassifier__warm_start': False}\n"
          ]
        }
      ],
      "source": [
        "print(pipeline.get_params())"
      ]
    },
    {
      "cell_type": "markdown",
      "metadata": {
        "id": "zi_mbaZntymM"
      },
      "source": [
        "The meaning of all the hyperparameters and the options for their values can be found on the [Random Forest Classifier documentation](https://scikit-learn.org/stable/modules/generated/sklearn.ensemble.RandomForestClassifier.html). Here we focus only on those hyperparameters that we want to tune through cross-validation:"
      ]
    },
    {
      "cell_type": "code",
      "execution_count": 16,
      "metadata": {
        "id": "Sikj8zPOtz3t"
      },
      "outputs": [],
      "source": [
        "hyperparameters = { 'randomforestclassifier__max_features' : ['auto', 'log2', None],\n",
        "                  'randomforestclassifier__max_depth': [None, 5, 3, 1]}"
      ]
    },
    {
      "cell_type": "markdown",
      "metadata": {
        "id": "eB29Kca6EoPI"
      },
      "source": [
        "We selected the \"max_features\" and \"max_depth\" parameters.\n",
        "\n",
        "The first one represents the number of features to consider when looking for the best split:\n",
        "\n",
        "*    If “auto” or “sqrt”, then max_features=sqrt(n_features).\n",
        "*    If “log2”, then max_features=log2(n_features).\n",
        "*    If None, then max_features=n_features.\n",
        "\n",
        "The second one is the maximum depth of the tree. If None, then nodes are expanded until all leaves are pure or until all leaves contain less than \"min_samples_split\" (default is 2) samples.\n",
        "\n",
        "\n",
        "As you can see, we define the subset of hyperparameters as a Python dictionary (data structure for key-value pairs) where keys are the hyperparameter names and values are lists of settings to try.\n",
        "\n",
        "Now we're almost ready to dive into fitting our models. But first, we need to spend some time talking about **cross-validation**.\n",
        "\n",
        "This is one of the most important skills in all of machine learning because it helps you maximize model performance while reducing the chance of **overfitting**.\n",
        "\n",
        "Cross-validation is a process for reliably estimating the performance of a method for building a model by training and evaluating your model multiple times using the same method.\n",
        "\n",
        "Practically, that \"method\" is simply a set of hyperparameters in this context.\n",
        "\n",
        "These are the steps for CV:\n",
        "\n",
        "1.    Split your data into k equal parts, or \"folds\" (typically k=10).\n",
        "2.    Train your model on k-1 folds (e.g. the first 9 folds).\n",
        "3.    Evaluate it on the remaining \"hold-out\" fold (e.g. the 10th fold).\n",
        "4.    Perform steps (2) and (3) k times, each time holding out a different fold.\n",
        "5.    Aggregate the performance across all k folds. This is your performance metric.\n",
        "\n",
        "![image.png](data:image/png;base64,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)"
      ]
    },
    {
      "cell_type": "markdown",
      "metadata": {
        "id": "gDW2D9nvvo0g"
      },
      "source": [
        "<!--Notice how the held-out set is called \"Test data\" in the picture above, whereas in class this set was called \"validation\" data. Unfortunately, there are still ambiguities in the way things are defined in this field. We should just be aware and live with it.-->\n",
        "In the picture above, CV is done in k=5 steps.\n",
        "\n",
        "The best practice when performing CV is to include your data preprocessing steps inside the cross-validation loop. This prevents accidentally tainting your training folds with influential data from your test fold.\n",
        "\n",
        "Here's how the CV pipeline looks after including preprocessing steps:\n",
        "\n",
        "1.    Split your data into **k** equal parts, or \"folds\" (typically k=10).\n",
        "2.    Preprocess **k-1** training folds.\n",
        "3.    Train your model on the same **k-1** folds.\n",
        "4.    Preprocess the hold-out fold using the same transformations from step (2).\n",
        "5.    Evaluate your model on the same hold-out fold.\n",
        "6.    Perform steps (2) - (5) **k** times, each time holding out a different fold.\n",
        "7.    Aggregate the performance across all **k** folds. This is your performance metric.\n",
        "\n",
        "Fortunately, Scikit-Learn makes it as simple as it can get:\n",
        "\n"
      ]
    },
    {
      "cell_type": "code",
      "execution_count": 17,
      "metadata": {
        "colab": {
          "base_uri": "https://localhost:8080/",
          "height": 975
        },
        "id": "cQmmT2p3v_Rx",
        "outputId": "ce35fa5f-a782-4a78-e003-26a5c773e7a1"
      },
      "outputs": [
        {
          "output_type": "stream",
          "name": "stderr",
          "text": [
            "/usr/local/lib/python3.12/dist-packages/sklearn/model_selection/_split.py:805: UserWarning: The least populated class in y has only 4 members, which is less than n_splits=10.\n",
            "  warnings.warn(\n",
            "/usr/local/lib/python3.12/dist-packages/sklearn/model_selection/_validation.py:528: FitFailedWarning: \n",
            "40 fits failed out of a total of 120.\n",
            "The score on these train-test partitions for these parameters will be set to nan.\n",
            "If these failures are not expected, you can try to debug them by setting error_score='raise'.\n",
            "\n",
            "Below are more details about the failures:\n",
            "--------------------------------------------------------------------------------\n",
            "40 fits failed with the following error:\n",
            "Traceback (most recent call last):\n",
            "  File \"/usr/local/lib/python3.12/dist-packages/sklearn/model_selection/_validation.py\", line 866, in _fit_and_score\n",
            "    estimator.fit(X_train, y_train, **fit_params)\n",
            "  File \"/usr/local/lib/python3.12/dist-packages/sklearn/base.py\", line 1389, in wrapper\n",
            "    return fit_method(estimator, *args, **kwargs)\n",
            "           ^^^^^^^^^^^^^^^^^^^^^^^^^^^^^^^^^^^^^^\n",
            "  File \"/usr/local/lib/python3.12/dist-packages/sklearn/pipeline.py\", line 662, in fit\n",
            "    self._final_estimator.fit(Xt, y, **last_step_params[\"fit\"])\n",
            "  File \"/usr/local/lib/python3.12/dist-packages/sklearn/base.py\", line 1382, in wrapper\n",
            "    estimator._validate_params()\n",
            "  File \"/usr/local/lib/python3.12/dist-packages/sklearn/base.py\", line 436, in _validate_params\n",
            "    validate_parameter_constraints(\n",
            "  File \"/usr/local/lib/python3.12/dist-packages/sklearn/utils/_param_validation.py\", line 98, in validate_parameter_constraints\n",
            "    raise InvalidParameterError(\n",
            "sklearn.utils._param_validation.InvalidParameterError: The 'max_features' parameter of RandomForestClassifier must be an int in the range [1, inf), a float in the range (0.0, 1.0], a str among {'log2', 'sqrt'} or None. Got 'auto' instead.\n",
            "\n",
            "  warnings.warn(some_fits_failed_message, FitFailedWarning)\n",
            "/usr/local/lib/python3.12/dist-packages/sklearn/model_selection/_search.py:1108: UserWarning: One or more of the test scores are non-finite: [       nan 0.66488595 0.66309959        nan 0.5436505  0.54340062\n",
            "        nan 0.5247599  0.52757059        nan 0.44869904 0.47575487]\n",
            "  warnings.warn(\n"
          ]
        },
        {
          "output_type": "execute_result",
          "data": {
            "text/plain": [
              "GridSearchCV(cv=10,\n",
              "             estimator=Pipeline(steps=[('standardscaler', StandardScaler()),\n",
              "                                       ('randomforestclassifier',\n",
              "                                        RandomForestClassifier())]),\n",
              "             param_grid={'randomforestclassifier__max_depth': [None, 5, 3, 1],\n",
              "                         'randomforestclassifier__max_features': ['auto',\n",
              "                                                                  'log2',\n",
              "                                                                  None]})"
            ],
            "text/html": [
              "<style>#sk-container-id-1 {\n",
              "  /* Definition of color scheme common for light and dark mode */\n",
              "  --sklearn-color-text: #000;\n",
              "  --sklearn-color-text-muted: #666;\n",
              "  --sklearn-color-line: gray;\n",
              "  /* Definition of color scheme for unfitted estimators */\n",
              "  --sklearn-color-unfitted-level-0: #fff5e6;\n",
              "  --sklearn-color-unfitted-level-1: #f6e4d2;\n",
              "  --sklearn-color-unfitted-level-2: #ffe0b3;\n",
              "  --sklearn-color-unfitted-level-3: chocolate;\n",
              "  /* Definition of color scheme for fitted estimators */\n",
              "  --sklearn-color-fitted-level-0: #f0f8ff;\n",
              "  --sklearn-color-fitted-level-1: #d4ebff;\n",
              "  --sklearn-color-fitted-level-2: #b3dbfd;\n",
              "  --sklearn-color-fitted-level-3: cornflowerblue;\n",
              "\n",
              "  /* Specific color for light theme */\n",
              "  --sklearn-color-text-on-default-background: var(--sg-text-color, var(--theme-code-foreground, var(--jp-content-font-color1, black)));\n",
              "  --sklearn-color-background: var(--sg-background-color, var(--theme-background, var(--jp-layout-color0, white)));\n",
              "  --sklearn-color-border-box: var(--sg-text-color, var(--theme-code-foreground, var(--jp-content-font-color1, black)));\n",
              "  --sklearn-color-icon: #696969;\n",
              "\n",
              "  @media (prefers-color-scheme: dark) {\n",
              "    /* Redefinition of color scheme for dark theme */\n",
              "    --sklearn-color-text-on-default-background: var(--sg-text-color, var(--theme-code-foreground, var(--jp-content-font-color1, white)));\n",
              "    --sklearn-color-background: var(--sg-background-color, var(--theme-background, var(--jp-layout-color0, #111)));\n",
              "    --sklearn-color-border-box: var(--sg-text-color, var(--theme-code-foreground, var(--jp-content-font-color1, white)));\n",
              "    --sklearn-color-icon: #878787;\n",
              "  }\n",
              "}\n",
              "\n",
              "#sk-container-id-1 {\n",
              "  color: var(--sklearn-color-text);\n",
              "}\n",
              "\n",
              "#sk-container-id-1 pre {\n",
              "  padding: 0;\n",
              "}\n",
              "\n",
              "#sk-container-id-1 input.sk-hidden--visually {\n",
              "  border: 0;\n",
              "  clip: rect(1px 1px 1px 1px);\n",
              "  clip: rect(1px, 1px, 1px, 1px);\n",
              "  height: 1px;\n",
              "  margin: -1px;\n",
              "  overflow: hidden;\n",
              "  padding: 0;\n",
              "  position: absolute;\n",
              "  width: 1px;\n",
              "}\n",
              "\n",
              "#sk-container-id-1 div.sk-dashed-wrapped {\n",
              "  border: 1px dashed var(--sklearn-color-line);\n",
              "  margin: 0 0.4em 0.5em 0.4em;\n",
              "  box-sizing: border-box;\n",
              "  padding-bottom: 0.4em;\n",
              "  background-color: var(--sklearn-color-background);\n",
              "}\n",
              "\n",
              "#sk-container-id-1 div.sk-container {\n",
              "  /* jupyter's `normalize.less` sets `[hidden] { display: none; }`\n",
              "     but bootstrap.min.css set `[hidden] { display: none !important; }`\n",
              "     so we also need the `!important` here to be able to override the\n",
              "     default hidden behavior on the sphinx rendered scikit-learn.org.\n",
              "     See: https://github.com/scikit-learn/scikit-learn/issues/21755 */\n",
              "  display: inline-block !important;\n",
              "  position: relative;\n",
              "}\n",
              "\n",
              "#sk-container-id-1 div.sk-text-repr-fallback {\n",
              "  display: none;\n",
              "}\n",
              "\n",
              "div.sk-parallel-item,\n",
              "div.sk-serial,\n",
              "div.sk-item {\n",
              "  /* draw centered vertical line to link estimators */\n",
              "  background-image: linear-gradient(var(--sklearn-color-text-on-default-background), var(--sklearn-color-text-on-default-background));\n",
              "  background-size: 2px 100%;\n",
              "  background-repeat: no-repeat;\n",
              "  background-position: center center;\n",
              "}\n",
              "\n",
              "/* Parallel-specific style estimator block */\n",
              "\n",
              "#sk-container-id-1 div.sk-parallel-item::after {\n",
              "  content: \"\";\n",
              "  width: 100%;\n",
              "  border-bottom: 2px solid var(--sklearn-color-text-on-default-background);\n",
              "  flex-grow: 1;\n",
              "}\n",
              "\n",
              "#sk-container-id-1 div.sk-parallel {\n",
              "  display: flex;\n",
              "  align-items: stretch;\n",
              "  justify-content: center;\n",
              "  background-color: var(--sklearn-color-background);\n",
              "  position: relative;\n",
              "}\n",
              "\n",
              "#sk-container-id-1 div.sk-parallel-item {\n",
              "  display: flex;\n",
              "  flex-direction: column;\n",
              "}\n",
              "\n",
              "#sk-container-id-1 div.sk-parallel-item:first-child::after {\n",
              "  align-self: flex-end;\n",
              "  width: 50%;\n",
              "}\n",
              "\n",
              "#sk-container-id-1 div.sk-parallel-item:last-child::after {\n",
              "  align-self: flex-start;\n",
              "  width: 50%;\n",
              "}\n",
              "\n",
              "#sk-container-id-1 div.sk-parallel-item:only-child::after {\n",
              "  width: 0;\n",
              "}\n",
              "\n",
              "/* Serial-specific style estimator block */\n",
              "\n",
              "#sk-container-id-1 div.sk-serial {\n",
              "  display: flex;\n",
              "  flex-direction: column;\n",
              "  align-items: center;\n",
              "  background-color: var(--sklearn-color-background);\n",
              "  padding-right: 1em;\n",
              "  padding-left: 1em;\n",
              "}\n",
              "\n",
              "\n",
              "/* Toggleable style: style used for estimator/Pipeline/ColumnTransformer box that is\n",
              "clickable and can be expanded/collapsed.\n",
              "- Pipeline and ColumnTransformer use this feature and define the default style\n",
              "- Estimators will overwrite some part of the style using the `sk-estimator` class\n",
              "*/\n",
              "\n",
              "/* Pipeline and ColumnTransformer style (default) */\n",
              "\n",
              "#sk-container-id-1 div.sk-toggleable {\n",
              "  /* Default theme specific background. It is overwritten whether we have a\n",
              "  specific estimator or a Pipeline/ColumnTransformer */\n",
              "  background-color: var(--sklearn-color-background);\n",
              "}\n",
              "\n",
              "/* Toggleable label */\n",
              "#sk-container-id-1 label.sk-toggleable__label {\n",
              "  cursor: pointer;\n",
              "  display: flex;\n",
              "  width: 100%;\n",
              "  margin-bottom: 0;\n",
              "  padding: 0.5em;\n",
              "  box-sizing: border-box;\n",
              "  text-align: center;\n",
              "  align-items: start;\n",
              "  justify-content: space-between;\n",
              "  gap: 0.5em;\n",
              "}\n",
              "\n",
              "#sk-container-id-1 label.sk-toggleable__label .caption {\n",
              "  font-size: 0.6rem;\n",
              "  font-weight: lighter;\n",
              "  color: var(--sklearn-color-text-muted);\n",
              "}\n",
              "\n",
              "#sk-container-id-1 label.sk-toggleable__label-arrow:before {\n",
              "  /* Arrow on the left of the label */\n",
              "  content: \"▸\";\n",
              "  float: left;\n",
              "  margin-right: 0.25em;\n",
              "  color: var(--sklearn-color-icon);\n",
              "}\n",
              "\n",
              "#sk-container-id-1 label.sk-toggleable__label-arrow:hover:before {\n",
              "  color: var(--sklearn-color-text);\n",
              "}\n",
              "\n",
              "/* Toggleable content - dropdown */\n",
              "\n",
              "#sk-container-id-1 div.sk-toggleable__content {\n",
              "  max-height: 0;\n",
              "  max-width: 0;\n",
              "  overflow: hidden;\n",
              "  text-align: left;\n",
              "  /* unfitted */\n",
              "  background-color: var(--sklearn-color-unfitted-level-0);\n",
              "}\n",
              "\n",
              "#sk-container-id-1 div.sk-toggleable__content.fitted {\n",
              "  /* fitted */\n",
              "  background-color: var(--sklearn-color-fitted-level-0);\n",
              "}\n",
              "\n",
              "#sk-container-id-1 div.sk-toggleable__content pre {\n",
              "  margin: 0.2em;\n",
              "  border-radius: 0.25em;\n",
              "  color: var(--sklearn-color-text);\n",
              "  /* unfitted */\n",
              "  background-color: var(--sklearn-color-unfitted-level-0);\n",
              "}\n",
              "\n",
              "#sk-container-id-1 div.sk-toggleable__content.fitted pre {\n",
              "  /* unfitted */\n",
              "  background-color: var(--sklearn-color-fitted-level-0);\n",
              "}\n",
              "\n",
              "#sk-container-id-1 input.sk-toggleable__control:checked~div.sk-toggleable__content {\n",
              "  /* Expand drop-down */\n",
              "  max-height: 200px;\n",
              "  max-width: 100%;\n",
              "  overflow: auto;\n",
              "}\n",
              "\n",
              "#sk-container-id-1 input.sk-toggleable__control:checked~label.sk-toggleable__label-arrow:before {\n",
              "  content: \"▾\";\n",
              "}\n",
              "\n",
              "/* Pipeline/ColumnTransformer-specific style */\n",
              "\n",
              "#sk-container-id-1 div.sk-label input.sk-toggleable__control:checked~label.sk-toggleable__label {\n",
              "  color: var(--sklearn-color-text);\n",
              "  background-color: var(--sklearn-color-unfitted-level-2);\n",
              "}\n",
              "\n",
              "#sk-container-id-1 div.sk-label.fitted input.sk-toggleable__control:checked~label.sk-toggleable__label {\n",
              "  background-color: var(--sklearn-color-fitted-level-2);\n",
              "}\n",
              "\n",
              "/* Estimator-specific style */\n",
              "\n",
              "/* Colorize estimator box */\n",
              "#sk-container-id-1 div.sk-estimator input.sk-toggleable__control:checked~label.sk-toggleable__label {\n",
              "  /* unfitted */\n",
              "  background-color: var(--sklearn-color-unfitted-level-2);\n",
              "}\n",
              "\n",
              "#sk-container-id-1 div.sk-estimator.fitted input.sk-toggleable__control:checked~label.sk-toggleable__label {\n",
              "  /* fitted */\n",
              "  background-color: var(--sklearn-color-fitted-level-2);\n",
              "}\n",
              "\n",
              "#sk-container-id-1 div.sk-label label.sk-toggleable__label,\n",
              "#sk-container-id-1 div.sk-label label {\n",
              "  /* The background is the default theme color */\n",
              "  color: var(--sklearn-color-text-on-default-background);\n",
              "}\n",
              "\n",
              "/* On hover, darken the color of the background */\n",
              "#sk-container-id-1 div.sk-label:hover label.sk-toggleable__label {\n",
              "  color: var(--sklearn-color-text);\n",
              "  background-color: var(--sklearn-color-unfitted-level-2);\n",
              "}\n",
              "\n",
              "/* Label box, darken color on hover, fitted */\n",
              "#sk-container-id-1 div.sk-label.fitted:hover label.sk-toggleable__label.fitted {\n",
              "  color: var(--sklearn-color-text);\n",
              "  background-color: var(--sklearn-color-fitted-level-2);\n",
              "}\n",
              "\n",
              "/* Estimator label */\n",
              "\n",
              "#sk-container-id-1 div.sk-label label {\n",
              "  font-family: monospace;\n",
              "  font-weight: bold;\n",
              "  display: inline-block;\n",
              "  line-height: 1.2em;\n",
              "}\n",
              "\n",
              "#sk-container-id-1 div.sk-label-container {\n",
              "  text-align: center;\n",
              "}\n",
              "\n",
              "/* Estimator-specific */\n",
              "#sk-container-id-1 div.sk-estimator {\n",
              "  font-family: monospace;\n",
              "  border: 1px dotted var(--sklearn-color-border-box);\n",
              "  border-radius: 0.25em;\n",
              "  box-sizing: border-box;\n",
              "  margin-bottom: 0.5em;\n",
              "  /* unfitted */\n",
              "  background-color: var(--sklearn-color-unfitted-level-0);\n",
              "}\n",
              "\n",
              "#sk-container-id-1 div.sk-estimator.fitted {\n",
              "  /* fitted */\n",
              "  background-color: var(--sklearn-color-fitted-level-0);\n",
              "}\n",
              "\n",
              "/* on hover */\n",
              "#sk-container-id-1 div.sk-estimator:hover {\n",
              "  /* unfitted */\n",
              "  background-color: var(--sklearn-color-unfitted-level-2);\n",
              "}\n",
              "\n",
              "#sk-container-id-1 div.sk-estimator.fitted:hover {\n",
              "  /* fitted */\n",
              "  background-color: var(--sklearn-color-fitted-level-2);\n",
              "}\n",
              "\n",
              "/* Specification for estimator info (e.g. \"i\" and \"?\") */\n",
              "\n",
              "/* Common style for \"i\" and \"?\" */\n",
              "\n",
              ".sk-estimator-doc-link,\n",
              "a:link.sk-estimator-doc-link,\n",
              "a:visited.sk-estimator-doc-link {\n",
              "  float: right;\n",
              "  font-size: smaller;\n",
              "  line-height: 1em;\n",
              "  font-family: monospace;\n",
              "  background-color: var(--sklearn-color-background);\n",
              "  border-radius: 1em;\n",
              "  height: 1em;\n",
              "  width: 1em;\n",
              "  text-decoration: none !important;\n",
              "  margin-left: 0.5em;\n",
              "  text-align: center;\n",
              "  /* unfitted */\n",
              "  border: var(--sklearn-color-unfitted-level-1) 1pt solid;\n",
              "  color: var(--sklearn-color-unfitted-level-1);\n",
              "}\n",
              "\n",
              ".sk-estimator-doc-link.fitted,\n",
              "a:link.sk-estimator-doc-link.fitted,\n",
              "a:visited.sk-estimator-doc-link.fitted {\n",
              "  /* fitted */\n",
              "  border: var(--sklearn-color-fitted-level-1) 1pt solid;\n",
              "  color: var(--sklearn-color-fitted-level-1);\n",
              "}\n",
              "\n",
              "/* On hover */\n",
              "div.sk-estimator:hover .sk-estimator-doc-link:hover,\n",
              ".sk-estimator-doc-link:hover,\n",
              "div.sk-label-container:hover .sk-estimator-doc-link:hover,\n",
              ".sk-estimator-doc-link:hover {\n",
              "  /* unfitted */\n",
              "  background-color: var(--sklearn-color-unfitted-level-3);\n",
              "  color: var(--sklearn-color-background);\n",
              "  text-decoration: none;\n",
              "}\n",
              "\n",
              "div.sk-estimator.fitted:hover .sk-estimator-doc-link.fitted:hover,\n",
              ".sk-estimator-doc-link.fitted:hover,\n",
              "div.sk-label-container:hover .sk-estimator-doc-link.fitted:hover,\n",
              ".sk-estimator-doc-link.fitted:hover {\n",
              "  /* fitted */\n",
              "  background-color: var(--sklearn-color-fitted-level-3);\n",
              "  color: var(--sklearn-color-background);\n",
              "  text-decoration: none;\n",
              "}\n",
              "\n",
              "/* Span, style for the box shown on hovering the info icon */\n",
              ".sk-estimator-doc-link span {\n",
              "  display: none;\n",
              "  z-index: 9999;\n",
              "  position: relative;\n",
              "  font-weight: normal;\n",
              "  right: .2ex;\n",
              "  padding: .5ex;\n",
              "  margin: .5ex;\n",
              "  width: min-content;\n",
              "  min-width: 20ex;\n",
              "  max-width: 50ex;\n",
              "  color: var(--sklearn-color-text);\n",
              "  box-shadow: 2pt 2pt 4pt #999;\n",
              "  /* unfitted */\n",
              "  background: var(--sklearn-color-unfitted-level-0);\n",
              "  border: .5pt solid var(--sklearn-color-unfitted-level-3);\n",
              "}\n",
              "\n",
              ".sk-estimator-doc-link.fitted span {\n",
              "  /* fitted */\n",
              "  background: var(--sklearn-color-fitted-level-0);\n",
              "  border: var(--sklearn-color-fitted-level-3);\n",
              "}\n",
              "\n",
              ".sk-estimator-doc-link:hover span {\n",
              "  display: block;\n",
              "}\n",
              "\n",
              "/* \"?\"-specific style due to the `<a>` HTML tag */\n",
              "\n",
              "#sk-container-id-1 a.estimator_doc_link {\n",
              "  float: right;\n",
              "  font-size: 1rem;\n",
              "  line-height: 1em;\n",
              "  font-family: monospace;\n",
              "  background-color: var(--sklearn-color-background);\n",
              "  border-radius: 1rem;\n",
              "  height: 1rem;\n",
              "  width: 1rem;\n",
              "  text-decoration: none;\n",
              "  /* unfitted */\n",
              "  color: var(--sklearn-color-unfitted-level-1);\n",
              "  border: var(--sklearn-color-unfitted-level-1) 1pt solid;\n",
              "}\n",
              "\n",
              "#sk-container-id-1 a.estimator_doc_link.fitted {\n",
              "  /* fitted */\n",
              "  border: var(--sklearn-color-fitted-level-1) 1pt solid;\n",
              "  color: var(--sklearn-color-fitted-level-1);\n",
              "}\n",
              "\n",
              "/* On hover */\n",
              "#sk-container-id-1 a.estimator_doc_link:hover {\n",
              "  /* unfitted */\n",
              "  background-color: var(--sklearn-color-unfitted-level-3);\n",
              "  color: var(--sklearn-color-background);\n",
              "  text-decoration: none;\n",
              "}\n",
              "\n",
              "#sk-container-id-1 a.estimator_doc_link.fitted:hover {\n",
              "  /* fitted */\n",
              "  background-color: var(--sklearn-color-fitted-level-3);\n",
              "}\n",
              "</style><div id=\"sk-container-id-1\" class=\"sk-top-container\"><div class=\"sk-text-repr-fallback\"><pre>GridSearchCV(cv=10,\n",
              "             estimator=Pipeline(steps=[(&#x27;standardscaler&#x27;, StandardScaler()),\n",
              "                                       (&#x27;randomforestclassifier&#x27;,\n",
              "                                        RandomForestClassifier())]),\n",
              "             param_grid={&#x27;randomforestclassifier__max_depth&#x27;: [None, 5, 3, 1],\n",
              "                         &#x27;randomforestclassifier__max_features&#x27;: [&#x27;auto&#x27;,\n",
              "                                                                  &#x27;log2&#x27;,\n",
              "                                                                  None]})</pre><b>In a Jupyter environment, please rerun this cell to show the HTML representation or trust the notebook. <br />On GitHub, the HTML representation is unable to render, please try loading this page with nbviewer.org.</b></div><div class=\"sk-container\" hidden><div class=\"sk-item sk-dashed-wrapped\"><div class=\"sk-label-container\"><div class=\"sk-label fitted sk-toggleable\"><input class=\"sk-toggleable__control sk-hidden--visually\" id=\"sk-estimator-id-1\" type=\"checkbox\" ><label for=\"sk-estimator-id-1\" class=\"sk-toggleable__label fitted sk-toggleable__label-arrow\"><div><div>GridSearchCV</div></div><div><a class=\"sk-estimator-doc-link fitted\" rel=\"noreferrer\" target=\"_blank\" href=\"https://scikit-learn.org/1.6/modules/generated/sklearn.model_selection.GridSearchCV.html\">?<span>Documentation for GridSearchCV</span></a><span class=\"sk-estimator-doc-link fitted\">i<span>Fitted</span></span></div></label><div class=\"sk-toggleable__content fitted\"><pre>GridSearchCV(cv=10,\n",
              "             estimator=Pipeline(steps=[(&#x27;standardscaler&#x27;, StandardScaler()),\n",
              "                                       (&#x27;randomforestclassifier&#x27;,\n",
              "                                        RandomForestClassifier())]),\n",
              "             param_grid={&#x27;randomforestclassifier__max_depth&#x27;: [None, 5, 3, 1],\n",
              "                         &#x27;randomforestclassifier__max_features&#x27;: [&#x27;auto&#x27;,\n",
              "                                                                  &#x27;log2&#x27;,\n",
              "                                                                  None]})</pre></div> </div></div><div class=\"sk-parallel\"><div class=\"sk-parallel-item\"><div class=\"sk-item\"><div class=\"sk-label-container\"><div class=\"sk-label fitted sk-toggleable\"><input class=\"sk-toggleable__control sk-hidden--visually\" id=\"sk-estimator-id-2\" type=\"checkbox\" ><label for=\"sk-estimator-id-2\" class=\"sk-toggleable__label fitted sk-toggleable__label-arrow\"><div><div>best_estimator_: Pipeline</div></div></label><div class=\"sk-toggleable__content fitted\"><pre>Pipeline(steps=[(&#x27;standardscaler&#x27;, StandardScaler()),\n",
              "                (&#x27;randomforestclassifier&#x27;,\n",
              "                 RandomForestClassifier(max_features=&#x27;log2&#x27;))])</pre></div> </div></div><div class=\"sk-serial\"><div class=\"sk-item\"><div class=\"sk-serial\"><div class=\"sk-item\"><div class=\"sk-estimator fitted sk-toggleable\"><input class=\"sk-toggleable__control sk-hidden--visually\" id=\"sk-estimator-id-3\" type=\"checkbox\" ><label for=\"sk-estimator-id-3\" class=\"sk-toggleable__label fitted sk-toggleable__label-arrow\"><div><div>StandardScaler</div></div><div><a class=\"sk-estimator-doc-link fitted\" rel=\"noreferrer\" target=\"_blank\" href=\"https://scikit-learn.org/1.6/modules/generated/sklearn.preprocessing.StandardScaler.html\">?<span>Documentation for StandardScaler</span></a></div></label><div class=\"sk-toggleable__content fitted\"><pre>StandardScaler()</pre></div> </div></div><div class=\"sk-item\"><div class=\"sk-estimator fitted sk-toggleable\"><input class=\"sk-toggleable__control sk-hidden--visually\" id=\"sk-estimator-id-4\" type=\"checkbox\" ><label for=\"sk-estimator-id-4\" class=\"sk-toggleable__label fitted sk-toggleable__label-arrow\"><div><div>RandomForestClassifier</div></div><div><a class=\"sk-estimator-doc-link fitted\" rel=\"noreferrer\" target=\"_blank\" href=\"https://scikit-learn.org/1.6/modules/generated/sklearn.ensemble.RandomForestClassifier.html\">?<span>Documentation for RandomForestClassifier</span></a></div></label><div class=\"sk-toggleable__content fitted\"><pre>RandomForestClassifier(max_features=&#x27;log2&#x27;)</pre></div> </div></div></div></div></div></div></div></div></div></div></div>"
            ]
          },
          "metadata": {},
          "execution_count": 17
        }
      ],
      "source": [
        "clf = GridSearchCV(pipeline, hyperparameters, cv=10)\n",
        "\n",
        "# Fit and tune model\n",
        "clf.fit(X_train, y_train)"
      ]
    },
    {
      "cell_type": "markdown",
      "metadata": {
        "id": "Tqgykvh0wRaC"
      },
      "source": [
        "**GridSearchCV** essentially performs cross-validation across the entire \"grid\" (all possible permutations) of hyperparameters.\n",
        "\n",
        "It takes in your model (in this case, we're using a model pipeline), the hyperparameters you want to tune, and the number of folds to create.\n",
        "\n",
        "Obviously, there's a lot going on under the hood, but we will not cover the details in the interest of time.\n",
        "\n",
        "Now, you can see the best set of parameters found using CV:"
      ]
    },
    {
      "cell_type": "code",
      "execution_count": 18,
      "metadata": {
        "colab": {
          "base_uri": "https://localhost:8080/"
        },
        "id": "D0jPzwOHwkY-",
        "outputId": "e62d106e-9ce4-4659-e4fc-644cfed55181"
      },
      "outputs": [
        {
          "output_type": "stream",
          "name": "stdout",
          "text": [
            "{'randomforestclassifier__max_depth': None, 'randomforestclassifier__max_features': 'log2'}\n"
          ]
        }
      ],
      "source": [
        "print(clf.best_params_)"
      ]
    },
    {
      "cell_type": "markdown",
      "metadata": {
        "id": "fJ0SEl5Yw1zo"
      },
      "source": [
        "After you've tuned your hyperparameters appropriately using cross-validation, you can generally get a small performance improvement by refitting the model on the entire training set.\n",
        "\n",
        "Conveniently, GridSearchCV from sklearn will automatically refit the model with the best set of hyperparameters using the entire training set.\n",
        "\n",
        "This functionality is ON by default, but you can confirm it:"
      ]
    },
    {
      "cell_type": "code",
      "execution_count": 19,
      "metadata": {
        "colab": {
          "base_uri": "https://localhost:8080/"
        },
        "id": "HmC2FlHiw2-H",
        "outputId": "fa0f8d4a-fbbc-459e-a852-f8c0d90fba94"
      },
      "outputs": [
        {
          "output_type": "stream",
          "name": "stdout",
          "text": [
            "True\n"
          ]
        }
      ],
      "source": [
        "print(clf.refit)\n",
        "# True"
      ]
    },
    {
      "cell_type": "markdown",
      "metadata": {
        "id": "SVHHNaLrw8eO"
      },
      "source": [
        "Now, you can simply use the  clf object as your model when applying it to other sets of data. That's what we'll be doing in the next step.\n",
        "\n",
        "This step is really straightforward once you understand that the clf object you used to tune the hyperparameters can also be used directly like a model object.\n",
        "\n",
        "Here's how to predict a new set of data:"
      ]
    },
    {
      "cell_type": "code",
      "execution_count": 20,
      "metadata": {
        "id": "7yRbdfarxGkn"
      },
      "outputs": [],
      "source": [
        "y_pred = clf.predict(X_test)"
      ]
    },
    {
      "cell_type": "markdown",
      "metadata": {
        "id": "8eIFaodnxh6b"
      },
      "source": [
        "Now we can use the metrics we imported earlier to evaluate our model performance."
      ]
    },
    {
      "cell_type": "code",
      "execution_count": 21,
      "metadata": {
        "colab": {
          "base_uri": "https://localhost:8080/"
        },
        "id": "vPVgR6JfxjR-",
        "outputId": "d6b00760-8e04-413c-a412-a27fa08151e3"
      },
      "outputs": [
        {
          "output_type": "stream",
          "name": "stdout",
          "text": [
            "0.5151474957555179\n",
            "0.3806122448979592\n"
          ]
        }
      ],
      "source": [
        "print(r2_score(y_test, y_pred))\n",
        "print(mean_squared_error(y_test, y_pred))"
      ]
    },
    {
      "cell_type": "code",
      "execution_count": 22,
      "metadata": {
        "colab": {
          "base_uri": "https://localhost:8080/"
        },
        "id": "tufItCrTIH9R",
        "outputId": "a5cd55a8-0e2d-4172-b99a-1b03e410d2cf"
      },
      "outputs": [
        {
          "output_type": "stream",
          "name": "stdout",
          "text": [
            "1.0\n",
            "0.0\n"
          ]
        }
      ],
      "source": [
        "y_pred_train = clf.predict(X_train)\n",
        "print(r2_score(y_train, y_pred_train))\n",
        "print(mean_squared_error(y_train, y_pred_train))"
      ]
    },
    {
      "cell_type": "markdown",
      "metadata": {
        "id": "QpIqHvoDx7mG"
      },
      "source": [
        "Great, so now the question is... is this performance good enough?\n",
        "\n",
        "Well, the rule of thumb is that your very first model probably won't be the best possible model. However, we recommend a combination of three strategies to decide if you're satisfied with your model performance.\n",
        "\n",
        "1.    Start with the goal of the model. If the model is tied to a business problem, have you successfully solved the problem?\n",
        "2.    Look in academic literature to get a sense of the current performance benchmarks for specific types of data.\n",
        "3.    Try to find low-hanging fruit in terms of ways to improve your model.\n",
        "\n",
        "There are various ways to improve a model. We'll have more guides that go into detail about how to improve model performance, but here are a few quick things to try:\n",
        "\n",
        "1.    Try other regression model families (e.g. regularized regression, boosted trees, etc.).\n",
        "2.    Collect more data if it's cheap to do so.\n",
        "3.    Engineer smarter features after spending more time on exploratory analysis.\n",
        "4.    Speak to a domain expert to get more context (...this is a good excuse to go wine tasting!).\n",
        "\n",
        "As a final note, when you try other families of models, we recommend using the same training and test set as you used to fit the random forest model. That's the best way to get a true apples-to-apples comparison between your models.\n",
        "\n",
        "Before you go, let's save your hard work so you can use the model in the future. It's really easy to do so:"
      ]
    },
    {
      "cell_type": "code",
      "execution_count": 23,
      "metadata": {
        "id": "-XjRaxagyfg4",
        "outputId": "ee58985b-59c5-47f1-960a-f5a4556ca5e0",
        "colab": {
          "base_uri": "https://localhost:8080/"
        }
      },
      "outputs": [
        {
          "output_type": "execute_result",
          "data": {
            "text/plain": [
              "['rf_regressor.pkl']"
            ]
          },
          "metadata": {},
          "execution_count": 23
        }
      ],
      "source": [
        "joblib.dump(clf, 'rf_regressor.pkl')"
      ]
    },
    {
      "cell_type": "markdown",
      "metadata": {
        "id": "cIb_eyjbyk0z"
      },
      "source": [
        "And that's it. When you want to load the model again, simply use this function:"
      ]
    },
    {
      "cell_type": "code",
      "execution_count": 24,
      "metadata": {
        "id": "RJHlzqVFylrG",
        "outputId": "eb0a52c7-c43b-4596-bd6f-16fb55ec9e2b",
        "colab": {
          "base_uri": "https://localhost:8080/"
        }
      },
      "outputs": [
        {
          "output_type": "execute_result",
          "data": {
            "text/plain": [
              "array([6, 5, 6, 6, 6, 6, 5, 6, 6, 6, 6, 6, 7, 6, 5, 6, 5, 7, 5, 5, 5, 6,\n",
              "       7, 7, 6, 5, 6, 6, 6, 6, 6, 6, 7, 6, 6, 6, 6, 5, 6, 6, 5, 5, 7, 6,\n",
              "       6, 5, 5, 6, 6, 6, 7, 6, 6, 5, 5, 6, 5, 6, 7, 5, 5, 5, 7, 6, 6, 6,\n",
              "       6, 5, 6, 6, 5, 6, 6, 6, 5, 5, 6, 5, 5, 4, 5, 5, 5, 5, 6, 6, 7, 6,\n",
              "       7, 7, 5, 6, 7, 5, 8, 8, 5, 7, 5, 6, 5, 5, 5, 5, 6, 5, 6, 6, 6, 7,\n",
              "       7, 6, 5, 7, 7, 6, 5, 6, 5, 6, 6, 5, 5, 5, 6, 6, 5, 5, 5, 5, 6, 6,\n",
              "       6, 5, 6, 7, 6, 6, 7, 5, 6, 6, 6, 7, 6, 6, 6, 5, 6, 6, 5, 5, 6, 8,\n",
              "       6, 7, 6, 6, 6, 6, 5, 6, 7, 5, 7, 6, 6, 6, 5, 6, 6, 5, 5, 6, 6, 5,\n",
              "       7, 6, 5, 6, 5, 6, 5, 7, 5, 5, 6, 5, 5, 6, 5, 5, 7, 6, 6, 6, 6, 7,\n",
              "       5, 6, 6, 6, 7, 6, 6, 6, 6, 6, 6, 6, 5, 6, 5, 6, 5, 6, 6, 6, 7, 5,\n",
              "       6, 6, 6, 6, 6, 6, 6, 5, 5, 5, 6, 6, 5, 5, 6, 5, 7, 6, 5, 6, 5, 5,\n",
              "       6, 5, 6, 6, 5, 6, 6, 6, 6, 5, 8, 7, 6, 5, 7, 7, 5, 5, 5, 6, 7, 7,\n",
              "       5, 5, 6, 7, 5, 5, 8, 7, 5, 5, 5, 5, 5, 7, 6, 6, 6, 7, 7, 7, 5, 7,\n",
              "       5, 5, 5, 5, 6, 6, 7, 6, 7, 5, 5, 5, 4, 6, 7, 5, 7, 7, 7, 7, 7, 6,\n",
              "       5, 6, 5, 5, 6, 6, 7, 5, 6, 5, 6, 6, 5, 6, 5, 6, 7, 6, 6, 6, 6, 5,\n",
              "       5, 6, 6, 7, 5, 6, 6, 6, 5, 6, 7, 6, 5, 7, 6, 6, 5, 6, 7, 7, 6, 6,\n",
              "       6, 7, 7, 7, 6, 6, 6, 6, 5, 5, 6, 6, 6, 6, 6, 6, 6, 6, 5, 6, 8, 7,\n",
              "       5, 5, 5, 6, 6, 6, 6, 5, 6, 6, 6, 5, 6, 5, 6, 5, 6, 6, 7, 6, 6, 6,\n",
              "       8, 6, 6, 6, 5, 6, 6, 6, 7, 5, 6, 5, 6, 6, 6, 6, 7, 7, 5, 6, 5, 7,\n",
              "       6, 6, 7, 5, 5, 5, 6, 7, 7, 5, 6, 5, 5, 7, 6, 6, 7, 6, 5, 7, 8, 6,\n",
              "       6, 6, 6, 6, 6, 5, 6, 6, 5, 7, 6, 7, 7, 6, 6, 6, 5, 6, 5, 6, 5, 6,\n",
              "       5, 5, 5, 6, 6, 6, 6, 5, 7, 6, 6, 5, 6, 6, 6, 5, 5, 5, 6, 5, 6, 5,\n",
              "       6, 5, 6, 6, 5, 6, 7, 6, 6, 6, 6, 5, 5, 5, 5, 5, 6, 7, 6, 5, 5, 6,\n",
              "       5, 6, 7, 6, 5, 6, 8, 6, 8, 8, 6, 6, 6, 6, 6, 4, 5, 6, 4, 8, 5, 5,\n",
              "       5, 5, 6, 5, 5, 5, 6, 6, 6, 6, 5, 7, 6, 5, 6, 6, 6, 7, 7, 6, 6, 5,\n",
              "       5, 6, 6, 7, 5, 6, 5, 5, 6, 6, 7, 6, 5, 6, 5, 7, 7, 7, 6, 6, 5, 5,\n",
              "       5, 5, 7, 7, 6, 6, 7, 6, 5, 5, 7, 7, 6, 7, 5, 7, 6, 6, 5, 6, 5, 6,\n",
              "       5, 6, 6, 5, 6, 7, 7, 6, 6, 6, 6, 6, 6, 6, 7, 6, 6, 6, 6, 7, 6, 6,\n",
              "       6, 7, 7, 6, 6, 6, 5, 5, 6, 5, 5, 5, 5, 7, 6, 5, 6, 5, 8, 6, 6, 5,\n",
              "       7, 7, 7, 6, 6, 6, 5, 7, 6, 6, 6, 6, 5, 6, 5, 5, 6, 5, 7, 5, 6, 6,\n",
              "       5, 6, 6, 6, 5, 6, 5, 6, 6, 6, 6, 5, 6, 6, 6, 6, 7, 5, 6, 6, 6, 7,\n",
              "       6, 6, 5, 5, 6, 6, 6, 6, 7, 7, 6, 6, 6, 6, 6, 6, 5, 7, 6, 6, 6, 6,\n",
              "       6, 6, 6, 6, 6, 6, 6, 7, 5, 6, 5, 6, 5, 6, 7, 6, 6, 6, 6, 5, 6, 5,\n",
              "       6, 6, 6, 6, 6, 6, 5, 6, 6, 6, 6, 5, 6, 5, 6, 5, 6, 6, 6, 5, 7, 5,\n",
              "       7, 6, 5, 6, 6, 7, 7, 6, 5, 7, 5, 6, 7, 6, 5, 5, 6, 6, 7, 6, 7, 6,\n",
              "       6, 7, 5, 7, 5, 6, 6, 6, 6, 6, 6, 6, 6, 5, 6, 5, 5, 6, 5, 6, 5, 6,\n",
              "       6, 7, 5, 6, 6, 6, 6, 6, 7, 5, 6, 6, 6, 5, 6, 5, 5, 5, 7, 6, 6, 5,\n",
              "       6, 7, 5, 6, 5, 6, 6, 6, 5, 5, 7, 5, 6, 6, 5, 5, 6, 5, 7, 6, 6, 5,\n",
              "       6, 6, 6, 6, 7, 5, 5, 6, 5, 5, 6, 6, 6, 5, 6, 6, 7, 6, 6, 5, 6, 6,\n",
              "       6, 6, 6, 5, 5, 6, 6, 6, 6, 7, 6, 6, 6, 6, 7, 6, 5, 6, 7, 6, 6, 5,\n",
              "       5, 5, 5, 7, 6, 6, 6, 6, 5, 6, 6, 6, 6, 6, 6, 5, 6, 5, 5, 6, 5, 5,\n",
              "       6, 5, 5, 6, 5, 6, 4, 6, 5, 8, 7, 6, 5, 6, 6, 7, 6, 5, 5, 5, 6, 5,\n",
              "       6, 6, 6, 6, 5, 6, 6, 5, 4, 6, 5, 6, 6, 8, 6, 6, 5, 6, 5, 5, 6, 7,\n",
              "       5, 5, 6, 7, 6, 5, 5, 5, 6, 5, 6, 5, 6, 6, 6, 5, 5, 6, 6, 6, 7, 6,\n",
              "       5, 6, 6, 5, 6, 6, 7, 6, 6, 5, 5, 6])"
            ]
          },
          "metadata": {},
          "execution_count": 24
        }
      ],
      "source": [
        "clf2 = joblib.load('rf_regressor.pkl')\n",
        "\n",
        "# Predict data set using loaded model\n",
        "clf2.predict(X_test)"
      ]
    },
    {
      "cell_type": "markdown",
      "metadata": {
        "id": "TCTbLaL7H4Am"
      },
      "source": [
        "Now let's plot the confusion matrix"
      ]
    },
    {
      "cell_type": "code",
      "execution_count": 25,
      "metadata": {
        "id": "I7h7mblz9xMo",
        "outputId": "27246e67-f1d6-4fbd-8db8-711a2790a307",
        "colab": {
          "base_uri": "https://localhost:8080/",
          "height": 458
        }
      },
      "outputs": [
        {
          "output_type": "display_data",
          "data": {
            "text/plain": [
              "<Figure size 640x480 with 1 Axes>"
            ],
            "image/png": "[encoded data removed]"
          },
          "metadata": {}
        }
      ],
      "source": [
        "%matplotlib inline\n",
        "import numpy as np\n",
        "import matplotlib.pyplot as plt\n",
        "from scipy import stats\n",
        "\n",
        "# use seaborn plotting defaults\n",
        "import seaborn as sns; sns.set()\n",
        "from sklearn.metrics import confusion_matrix\n",
        "y_int = [int(i) for i in y_pred]\n",
        "mat = confusion_matrix(y_test, y_int)\n",
        "sns.heatmap(mat.T, square=True, annot=True, fmt='d', cbar=False,\n",
        "            xticklabels=\"X\",\n",
        "            yticklabels=\"Y\")\n",
        "plt.xlabel('true label')\n",
        "plt.ylabel('predicted label');"
      ]
    }
  ],
  "metadata": {
    "colab": {
      "provenance": [],
      "toc_visible": true,
      "gpuType": "T4",
      "include_colab_link": true
    },
    "kernelspec": {
      "display_name": "Python 3",
      "name": "python3"
    },
    "accelerator": "GPU"
  },
  "nbformat": 4,
  "nbformat_minor": 0
}